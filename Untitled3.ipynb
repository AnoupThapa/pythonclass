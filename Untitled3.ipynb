{
 "cells": [
  {
   "cell_type": "code",
   "execution_count": 2,
   "id": "28e3025b-0388-4b14-b43e-0cdcbab629fd",
   "metadata": {},
   "outputs": [],
   "source": [
    "gravity = 9.8"
   ]
  },
  {
   "cell_type": "code",
   "execution_count": 3,
   "id": "f38100e7-cbef-4d2e-8e01-cfa73e5f34e0",
   "metadata": {},
   "outputs": [],
   "source": [
    "xyz = 2.4"
   ]
  },
  {
   "cell_type": "code",
   "execution_count": 4,
   "id": "224e8f05-8a23-4c2a-9590-28f074e516b4",
   "metadata": {},
   "outputs": [],
   "source": [
    "x = (1+2+3+4\n",
    "     +5+6)"
   ]
  },
  {
   "cell_type": "code",
   "execution_count": 5,
   "id": "4d3a5f3e-770c-4cb2-a30b-a4a971809197",
   "metadata": {},
   "outputs": [
    {
     "name": "stdout",
     "output_type": "stream",
     "text": [
      "21\n"
     ]
    }
   ],
   "source": [
    "print (x)"
   ]
  },
  {
   "cell_type": "code",
   "execution_count": 11,
   "id": "f0c6e678-0b1e-45f6-92c9-fd7574231483",
   "metadata": {},
   "outputs": [
    {
     "name": "stdout",
     "output_type": "stream",
     "text": [
      "1 2 3\n"
     ]
    }
   ],
   "source": [
    "a = 1; b = 2; c = 3;\n",
    "print (a,b,c)"
   ]
  },
  {
   "cell_type": "code",
   "execution_count": 12,
   "id": "7832f1c5-6d81-44b0-afe0-08ec1589b888",
   "metadata": {},
   "outputs": [
    {
     "name": "stdout",
     "output_type": "stream",
     "text": [
      "1\n"
     ]
    }
   ],
   "source": [
    "a = b =c=d=1\n",
    "print(a)"
   ]
  },
  {
   "cell_type": "code",
   "execution_count": 13,
   "id": "4c27a945-578a-440d-97e6-8063c9d4b8aa",
   "metadata": {},
   "outputs": [
    {
     "name": "stdout",
     "output_type": "stream",
     "text": [
      "1 1 1 1\n"
     ]
    }
   ],
   "source": [
    "print(a,b,c,d)"
   ]
  },
  {
   "cell_type": "code",
   "execution_count": 14,
   "id": "4a5efdd6-3028-40c0-aac2-1698c0ce0cc0",
   "metadata": {},
   "outputs": [],
   "source": [
    "age = 17"
   ]
  },
  {
   "cell_type": "code",
   "execution_count": 19,
   "id": "646d802f-0006-4327-9ea6-40ad4d8f5211",
   "metadata": {},
   "outputs": [
    {
     "name": "stdout",
     "output_type": "stream",
     "text": [
      "unauthorized\n"
     ]
    }
   ],
   "source": [
    "age = 20\n",
    "if age > 18:\n",
    "    print (\"unauthorized\")"
   ]
  },
  {
   "cell_type": "code",
   "execution_count": 20,
   "id": "1d4a99dd-7bd3-4791-82ca-0f298b462f54",
   "metadata": {},
   "outputs": [
    {
     "name": "stdout",
     "output_type": "stream",
     "text": [
      "authorized\n"
     ]
    }
   ],
   "source": [
    "age = 20\n",
    "if age >18:\n",
    "    print (\"authorized\")"
   ]
  },
  {
   "cell_type": "code",
   "execution_count": 21,
   "id": "4506e8c3-eb78-45b7-b5d3-aa61ecd2e9cf",
   "metadata": {},
   "outputs": [
    {
     "name": "stdout",
     "output_type": "stream",
     "text": [
      "ram\n"
     ]
    }
   ],
   "source": [
    "name = 'ram'\n",
    "print(name)"
   ]
  },
  {
   "cell_type": "code",
   "execution_count": 22,
   "id": "4964af80-9bba-440e-9cd4-29a320cb2454",
   "metadata": {},
   "outputs": [
    {
     "name": "stdout",
     "output_type": "stream",
     "text": [
      "ram\n"
     ]
    }
   ],
   "source": [
    "Name = \"my name is ram.\"\n",
    "print(name)"
   ]
  },
  {
   "cell_type": "code",
   "execution_count": 24,
   "id": "f23d4980-5bb0-4048-bcaa-221bafd345aa",
   "metadata": {},
   "outputs": [],
   "source": [
    "fruits = {'apple','banana'}\n",
    "numbers = {1,2,3}\n",
    "vowels = {'a','e','i','o','u'}"
   ]
  },
  {
   "cell_type": "code",
   "execution_count": 27,
   "id": "99b0c898-188e-48b1-b373-790c55332db7",
   "metadata": {},
   "outputs": [
    {
     "name": "stdout",
     "output_type": "stream",
     "text": [
      "['apple', 'banana'] {1, 2, 3} {'e', 'u', 'i', 'o', 'a'}\n"
     ]
    }
   ],
   "source": [
    "print(fruits,numbers,vowels)"
   ]
  },
  {
   "cell_type": "code",
   "execution_count": 31,
   "id": "e410ff50-7d3e-44b1-bbba-1009d6875fe5",
   "metadata": {},
   "outputs": [
    {
     "name": "stdout",
     "output_type": "stream",
     "text": [
      "{'name': 'ram', 'address': 'ktm', 'contact': '9841', 'gender': 'male'}\n"
     ]
    }
   ],
   "source": [
    "person = {\n",
    "    \"name\":\"ram\",\n",
    "    \"address\":\"ktm\",\n",
    "    \"contact\":\"9841\",\n",
    "    \"gender\":\"male\"\n",
    "}\n",
    "print(person)"
   ]
  },
  {
   "cell_type": "markdown",
   "id": "7b48db9a-1d9f-4532-8021-a1f8d5cdd9a3",
   "metadata": {
    "jp-MarkdownHeadingCollapsed": true
   },
   "source": [
    "p = input(\"Enter Principle:\")\n",
    "T = input (\"Enter Time:\")\n",
    "R = Input (\"Enter Rate\")\n",
    "Si = (p*t*r)/100\n",
    "print(Si)"
   ]
  },
  {
   "cell_type": "code",
   "execution_count": 40,
   "id": "26ec1a57-2657-418f-9efd-7f7d2e132a40",
   "metadata": {},
   "outputs": [
    {
     "name": "stdin",
     "output_type": "stream",
     "text": [
      "Enter Principle: 1000\n",
      "Enter time: 2\n",
      "Enter Rate: 3\n"
     ]
    },
    {
     "name": "stdout",
     "output_type": "stream",
     "text": [
      "60.0\n"
     ]
    }
   ],
   "source": [
    "p = int (input(\"Enter Principle:\"))\n",
    "t = int (input (\"Enter time:\"))\n",
    "r = int (input (\"Enter Rate:\"))\n",
    "si = (p*t*r)/100\n",
    "print (si)"
   ]
  },
  {
   "cell_type": "code",
   "execution_count": null,
   "id": "fa53e9ce-7f49-43e3-9e10-aaf99477535f",
   "metadata": {},
   "outputs": [],
   "source": []
  }
 ],
 "metadata": {
  "kernelspec": {
   "display_name": "Python 3 (ipykernel)",
   "language": "python",
   "name": "python3"
  },
  "language_info": {
   "codemirror_mode": {
    "name": "ipython",
    "version": 3
   },
   "file_extension": ".py",
   "mimetype": "text/x-python",
   "name": "python",
   "nbconvert_exporter": "python",
   "pygments_lexer": "ipython3",
   "version": "3.11.4"
  }
 },
 "nbformat": 4,
 "nbformat_minor": 5
}
