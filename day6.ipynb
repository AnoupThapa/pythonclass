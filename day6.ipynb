{
 "cells": [
  {
   "cell_type": "code",
   "execution_count": 1,
   "id": "7a48c297-be83-4059-b66c-4af51eac34d1",
   "metadata": {},
   "outputs": [],
   "source": [
    "#version control.txt"
   ]
  },
  {
   "cell_type": "code",
   "execution_count": null,
   "id": "bf55c5ed-d6cc-4a6f-b016-597ddc0012a1",
   "metadata": {},
   "outputs": [],
   "source": [
    "# A same project in production can have multiple versions. THese versions are maintained using a version control sstem\n",
    "# If there was no version control, then sharing would jhave been difficult. \n",
    "It could be done either sharing from google drive or pendrive which is not efficient.\n",
    "# so we need version control system for two major reasons: \n",
    "\t#1. For code collaboration\n",
    "\t#2. For version maintainence \n",
    "\n",
    "# There are several version control systems like git, mercurial, etc. Git is among the most famous ones.\n",
    "\n",
    "\n",
    "# The code written in your local systerm should be ketp somewhere in the cloud for the safety purpose.\n",
    "# We can again keep our code to google-drive or some other cloud stroage. But, they do not understand VCS.\n",
    "# So, we keep our code in such cloud platforms which understand VCS (version Control System). For. Github, Gitlab, Bitbucket etc.\n",
    "# In this session we use git and github. "
   ]
  }
 ],
 "metadata": {
  "kernelspec": {
   "display_name": "Python 3 (ipykernel)",
   "language": "python",
   "name": "python3"
  },
  "language_info": {
   "codemirror_mode": {
    "name": "ipython",
    "version": 3
   },
   "file_extension": ".py",
   "mimetype": "text/x-python",
   "name": "python",
   "nbconvert_exporter": "python",
   "pygments_lexer": "ipython3",
   "version": "3.11.4"
  }
 },
 "nbformat": 4,
 "nbformat_minor": 5
}
