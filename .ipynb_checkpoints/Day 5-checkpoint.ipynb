{
 "cells": [
  {
   "cell_type": "code",
   "execution_count": 8,
   "id": "2a27692f-7bb3-405f-9481-6b87dcdf4785",
   "metadata": {},
   "outputs": [
    {
     "name": "stdout",
     "output_type": "stream",
     "text": [
      "\n",
      "Hello World\n",
      "I am learning Python\n",
      "\n"
     ]
    }
   ],
   "source": [
    "#strings are the immutable datat ype in python\n",
    "#they are also sequential types like list. so indexing and slicing are possible\n",
    "#in the string\n",
    "\n",
    "#creating an empty string\n",
    "a = str() #empty string\n",
    "a = \"\" #empty string\n",
    "str\n",
    "#creating non empty strings\n",
    "message = \"Hello World\" #using double quotes\n",
    "message = 'Hello World'\\\n",
    "'I am learning Python'#using single Quotes\n",
    "message = \"\"\"\n",
    "Hello World\n",
    "I am learning Python\n",
    "\"\"\" #using triple quotes\n",
    "print(message)"
   ]
  },
  {
   "cell_type": "markdown",
   "id": "43d56add-e39f-447a-948f-0b6a315b0bfd",
   "metadata": {},
   "source": [
    "message = \"I'm learning python\"\n",
    "message = 'He said,\"Python is a high level language\"'\n",
    "message = 'I\\'m learning Python'\n",
    "print(message)"
   ]
  },
  {
   "cell_type": "code",
   "execution_count": 9,
   "id": "554b51ed-9698-485f-8d4c-35a9d36371e7",
   "metadata": {},
   "outputs": [
    {
     "name": "stdout",
     "output_type": "stream",
     "text": [
      "Hello\n",
      "World\n"
     ]
    }
   ],
   "source": [
    "#Escape characters\n",
    "#\\\",|',\\t etc are the escape characters\n",
    "message = \"Hello\\nWorld\"\n",
    "print(message)"
   ]
  },
  {
   "cell_type": "code",
   "execution_count": 12,
   "id": "692e572a-8c31-4822-bbe9-0418afca5415",
   "metadata": {},
   "outputs": [
    {
     "name": "stdout",
     "output_type": "stream",
     "text": [
      "Hello \tWorld\n"
     ]
    }
   ],
   "source": [
    "message = \"Hello \\tWorld\"\n",
    "print(message)"
   ]
  },
  {
   "cell_type": "code",
   "execution_count": 13,
   "id": "93839c8a-266c-4fdf-b047-e5f2e0ee3e35",
   "metadata": {},
   "outputs": [],
   "source": [
    "#We can access string elements using indexing and slicing which is similar to th elist\n",
    "#Forward indexing starts from 0 and reverse indexing -1"
   ]
  },
  {
   "cell_type": "code",
   "execution_count": 20,
   "id": "88efd001-dde8-4a9b-a14e-307e4ab47620",
   "metadata": {},
   "outputs": [
    {
     "name": "stdout",
     "output_type": "stream",
     "text": [
      "H\n",
      " \n",
      "d\n",
      "l\n"
     ]
    }
   ],
   "source": [
    "message = \"Hello World\"\n",
    "print(message [0])\n",
    "print(message[5])\n",
    "print(message[-1])\n",
    "print(message[-8])\n"
   ]
  },
  {
   "cell_type": "code",
   "execution_count": 69,
   "id": "813a43d6-0bec-4f58-a390-dc074d77caa0",
   "metadata": {},
   "outputs": [
    {
     "name": "stdout",
     "output_type": "stream",
     "text": [
      "I am l\n",
      "I am \n",
      "m lea\n",
      " learning python\n",
      "\n",
      "g pyth\n",
      "\n",
      "m learning pyt\n",
      "\n",
      "mla\n"
     ]
    }
   ],
   "source": [
    "#slicing\n",
    "message = \"I am learning python\"\n",
    "print(message[:6]) # I am l #not to include the number after :\n",
    "print(message[0:5]) #I am \n",
    "print(message[3:8]) #m lea\n",
    "print(message[4:]) #learning Python\n",
    "print(message[7:2]) #' '\n",
    "print(message[-8:-2]) #g pyth\n",
    "print(message[-6:-8]) #' '\n",
    "print(message[3:-3]) #m learning pyt\n",
    "print(message[9:-11])\n",
    "print(message[3:8:2])#' '"
   ]
  },
  {
   "cell_type": "code",
   "execution_count": 28,
   "id": "c9254065-ceca-4327-8a8a-8834597d3fdb",
   "metadata": {},
   "outputs": [],
   "source": [
    "#Creating the object (empty and non-empty)\n",
    "#accessing the elements(Indexing/slicing/accessing element using Key)\n",
    "#operations\n",
    "#methods\n",
    "#Build in function"
   ]
  },
  {
   "cell_type": "code",
   "execution_count": 39,
   "id": "47e72533-1480-49ac-8c94-ce0b36c18d96",
   "metadata": {},
   "outputs": [
    {
     "ename": "TypeError",
     "evalue": "'str' object does not support item assignment",
     "output_type": "error",
     "traceback": [
      "\u001b[1;31m---------------------------------------------------------------------------\u001b[0m",
      "\u001b[1;31mTypeError\u001b[0m                                 Traceback (most recent call last)",
      "Cell \u001b[1;32mIn[39], line 2\u001b[0m\n\u001b[0;32m      1\u001b[0m message \u001b[38;5;241m=\u001b[39m \u001b[38;5;124m\"\u001b[39m\u001b[38;5;124mHello\u001b[39m\u001b[38;5;124m\"\u001b[39m\n\u001b[1;32m----> 2\u001b[0m \u001b[43mmessage\u001b[49m\u001b[43m[\u001b[49m\u001b[38;5;241;43m2\u001b[39;49m\u001b[43m]\u001b[49m\u001b[38;5;241m=\u001b[39m\u001b[38;5;124m\"\u001b[39m\u001b[38;5;124mL\u001b[39m\u001b[38;5;124m\"\u001b[39m\n\u001b[0;32m      3\u001b[0m \u001b[38;5;28mprint\u001b[39m(message)\n",
      "\u001b[1;31mTypeError\u001b[0m: 'str' object does not support item assignment"
     ]
    }
   ],
   "source": [
    "message = \"Hello\"\n",
    "message[2]=\"L\"\n",
    "print(message)"
   ]
  },
  {
   "cell_type": "code",
   "execution_count": 40,
   "id": "bf2dcf0d-3e55-4455-9d67-0a7ffd89f19c",
   "metadata": {},
   "outputs": [],
   "source": [
    "#del message is a keyword that deletes the object"
   ]
  },
  {
   "cell_type": "code",
   "execution_count": 41,
   "id": "3f132b52-849e-4155-91f6-8973c2dbd8f7",
   "metadata": {},
   "outputs": [],
   "source": [
    "#String Operations\n",
    "#Concatenation(+)"
   ]
  },
  {
   "cell_type": "code",
   "execution_count": 48,
   "id": "262dc5dd-f632-4cfa-87cb-7ec283de7da4",
   "metadata": {},
   "outputs": [
    {
     "name": "stdout",
     "output_type": "stream",
     "text": [
      "Hello World\n"
     ]
    }
   ],
   "source": [
    "m1= \"Hello \"\n",
    "m2= \"World\"\n",
    "result = m1 +m2\n",
    "print(result)"
   ]
  },
  {
   "cell_type": "code",
   "execution_count": 47,
   "id": "1075675b-2e4e-4f85-ad10-d09761d91bf7",
   "metadata": {},
   "outputs": [
    {
     "name": "stdout",
     "output_type": "stream",
     "text": [
      "Hello Hello Hello \n"
     ]
    }
   ],
   "source": [
    "#Repetition/Broadcast(*)\n",
    "m1= \"Hello \"\n",
    "result = m1*3\n",
    "print(result)"
   ]
  },
  {
   "cell_type": "code",
   "execution_count": 50,
   "id": "c276facd-7fed-49ac-86af-ca5105def8fc",
   "metadata": {},
   "outputs": [],
   "source": [
    "#[] slice "
   ]
  },
  {
   "cell_type": "code",
   "execution_count": 51,
   "id": "30af75fe-fa6b-4901-b546-49c0f41031b3",
   "metadata": {},
   "outputs": [
    {
     "data": {
      "text/plain": [
       "False"
      ]
     },
     "execution_count": 51,
     "metadata": {},
     "output_type": "execute_result"
    }
   ],
   "source": [
    "#Membership Operation ('in' and 'not in')\n",
    "\"h\" in \"Hello\""
   ]
  },
  {
   "cell_type": "code",
   "execution_count": 53,
   "id": "b927efa2-b316-4b38-973e-9c6cf73e3265",
   "metadata": {},
   "outputs": [
    {
     "data": {
      "text/plain": [
       "True"
      ]
     },
     "execution_count": 53,
     "metadata": {},
     "output_type": "execute_result"
    }
   ],
   "source": [
    "\"H\" in \"Hello\""
   ]
  },
  {
   "cell_type": "code",
   "execution_count": 54,
   "id": "f208c65c-92f1-4c27-9439-cde3e6915846",
   "metadata": {},
   "outputs": [
    {
     "data": {
      "text/plain": [
       "True"
      ]
     },
     "execution_count": 54,
     "metadata": {},
     "output_type": "execute_result"
    }
   ],
   "source": [
    "\"e\" in \"Hello\""
   ]
  },
  {
   "cell_type": "code",
   "execution_count": 55,
   "id": "90a1f7e5-b0ca-4104-b478-11b3f9ea6989",
   "metadata": {},
   "outputs": [
    {
     "name": "stdout",
     "output_type": "stream",
     "text": [
      "False\n"
     ]
    }
   ],
   "source": [
    "print(\"h\" in \"Hello\")"
   ]
  },
  {
   "cell_type": "code",
   "execution_count": 56,
   "id": "4b8611b7-b67f-44fe-b3f5-0fb106063440",
   "metadata": {},
   "outputs": [
    {
     "name": "stdout",
     "output_type": "stream",
     "text": [
      "True\n"
     ]
    }
   ],
   "source": [
    "print(\"H\" in \"Hello\")"
   ]
  },
  {
   "cell_type": "code",
   "execution_count": 59,
   "id": "c4a567e2-f478-443e-a255-919f0254b99f",
   "metadata": {},
   "outputs": [
    {
     "name": "stdout",
     "output_type": "stream",
     "text": [
      "True\n"
     ]
    }
   ],
   "source": [
    "print(\"l\" in \"Hello\")"
   ]
  },
  {
   "cell_type": "code",
   "execution_count": 60,
   "id": "a0556e45-81ae-4fe0-a1a6-643ae4052d36",
   "metadata": {},
   "outputs": [
    {
     "name": "stdout",
     "output_type": "stream",
     "text": [
      "False\n"
     ]
    }
   ],
   "source": [
    "print(\"o\" not in \"Hello\")"
   ]
  },
  {
   "cell_type": "code",
   "execution_count": 61,
   "id": "2e0e0e48-d7f0-47d2-9ce0-444a3839fb0f",
   "metadata": {},
   "outputs": [],
   "source": [
    "#built in function"
   ]
  },
  {
   "cell_type": "code",
   "execution_count": 63,
   "id": "74567df6-9cea-40e2-8642-2fd78949bf90",
   "metadata": {},
   "outputs": [
    {
     "name": "stdout",
     "output_type": "stream",
     "text": [
      "5\n"
     ]
    }
   ],
   "source": [
    "#len() #It gives the length of any sequential objsects\n",
    "m=\"Hello\"\n",
    "print(len(m))"
   ]
  },
  {
   "cell_type": "code",
   "execution_count": 65,
   "id": "95e8a81a-8fb1-4066-97cc-0bee8daf11d9",
   "metadata": {},
   "outputs": [
    {
     "name": "stdout",
     "output_type": "stream",
     "text": [
      "<class 'str'>\n",
      "<class 'list'>\n"
     ]
    }
   ],
   "source": [
    "#type() # it gives the data type of an object\n",
    "print (type(m)) #str\n",
    "print(type([1,2,3])) #list"
   ]
  },
  {
   "cell_type": "code",
   "execution_count": 67,
   "id": "bf5f3368-8a97-4262-853f-6c3a1b65cc4e",
   "metadata": {},
   "outputs": [
    {
     "name": "stdout",
     "output_type": "stream",
     "text": [
      "llo\n"
     ]
    }
   ],
   "source": [
    "#Slice () it takes start and end values\n",
    "s = slice(2,5)\n",
    "m= \"Hello\"\n",
    "print(m[s])"
   ]
  },
  {
   "cell_type": "code",
   "execution_count": 68,
   "id": "b7b1aa06-84e9-42e0-83fb-dea5e06d69c1",
   "metadata": {},
   "outputs": [
    {
     "name": "stdout",
     "output_type": "stream",
     "text": [
      "Hello\n"
     ]
    }
   ],
   "source": [
    "s = slice(0,5)\n",
    "m=\"Hello\"\n",
    "print(m[s])"
   ]
  },
  {
   "cell_type": "code",
   "execution_count": 12,
   "id": "8672b962-81d6-4c36-b50a-b3d7cb8c6aa7",
   "metadata": {},
   "outputs": [
    {
     "name": "stdout",
     "output_type": "stream",
     "text": [
      "Hello world\n"
     ]
    }
   ],
   "source": [
    "#Strings method \n",
    "message = \"hello world\"\n",
    "result= message.capitalize()\n",
    "print(result)"
   ]
  },
  {
   "cell_type": "code",
   "execution_count": 2,
   "id": "51987d22-604d-40cc-9d05-4fe583f597de",
   "metadata": {},
   "outputs": [
    {
     "name": "stdout",
     "output_type": "stream",
     "text": [
      "Hello World\n"
     ]
    }
   ],
   "source": [
    "#title()\n",
    "message = \"hello world\"\n",
    "result = message.title()\n",
    "print(result)"
   ]
  },
  {
   "cell_type": "code",
   "execution_count": 3,
   "id": "7b0faf10-c95b-4b40-9926-7624fcca1cae",
   "metadata": {},
   "outputs": [
    {
     "name": "stdout",
     "output_type": "stream",
     "text": [
      "HELLOW WORLD\n"
     ]
    }
   ],
   "source": [
    "#upper \n",
    "message = \"hellow world\"\n",
    "result = message.upper()\n",
    "print(result)"
   ]
  },
  {
   "cell_type": "code",
   "execution_count": 9,
   "id": "cb96f1e8-cc03-445b-8a1c-da7c01e20002",
   "metadata": {},
   "outputs": [
    {
     "name": "stdout",
     "output_type": "stream",
     "text": [
      "hello world\n"
     ]
    }
   ],
   "source": [
    "#lower\n",
    "message = \"HELLO WORLD\"\n",
    "result = message.lower()\n",
    "print(result)"
   ]
  },
  {
   "cell_type": "code",
   "execution_count": 19,
   "id": "fda9d70b-f27e-4f40-a990-ef3806f985a0",
   "metadata": {},
   "outputs": [
    {
     "name": "stdout",
     "output_type": "stream",
     "text": [
      "['Hello', 'world']\n"
     ]
    }
   ],
   "source": [
    "#split\n",
    "message = \"Hello world\"\n",
    "result = message.split()\n",
    "print(result)"
   ]
  },
  {
   "cell_type": "code",
   "execution_count": 25,
   "id": "7b925869-799a-4be1-833c-90fd906161df",
   "metadata": {},
   "outputs": [
    {
     "name": "stdout",
     "output_type": "stream",
     "text": [
      "['I', 'am', 'learning', 'python']\n"
     ]
    }
   ],
   "source": [
    "message = \"I,am,learning,python\"\n",
    "result = message.split(',')\n",
    "print(result)"
   ]
  },
  {
   "cell_type": "code",
   "execution_count": 26,
   "id": "3729a0f1-ae30-4c15-934b-a2f39fa6cb52",
   "metadata": {},
   "outputs": [
    {
     "name": "stdout",
     "output_type": "stream",
     "text": [
      "['Hell', ' w', 'rld']\n"
     ]
    }
   ],
   "source": [
    "message = \"Hello world\"\n",
    "result = message.split('o')\n",
    "print(result)"
   ]
  },
  {
   "cell_type": "code",
   "execution_count": 34,
   "id": "e7c5a470-a3b7-4189-8cbd-f9700400bf6c",
   "metadata": {},
   "outputs": [
    {
     "name": "stdout",
     "output_type": "stream",
     "text": [
      "Hello world\n"
     ]
    }
   ],
   "source": [
    "#join()\n",
    "data = ['Hell', ' w', 'rld']\n",
    "result = \"o\".join(data)\n",
    "print(result)"
   ]
  },
  {
   "cell_type": "code",
   "execution_count": 42,
   "id": "f7a74d9a-fffa-4535-a25a-317ab3b2ab7b",
   "metadata": {},
   "outputs": [
    {
     "name": "stdout",
     "output_type": "stream",
     "text": [
      "hello\tworld\n"
     ]
    }
   ],
   "source": [
    "data = [\"hello\", \"world\"]\n",
    "result= \"\\t\".join(data)\n",
    "print(result)"
   ]
  },
  {
   "cell_type": "code",
   "execution_count": 56,
   "id": "33422c2c-3644-4655-bb8b-1128a64ceb47",
   "metadata": {},
   "outputs": [
    {
     "name": "stdout",
     "output_type": "stream",
     "text": [
      "7\n"
     ]
    }
   ],
   "source": [
    "#find()\n",
    "message= \"hello world\"\n",
    "result = message.find(\"orl\")\n",
    "print(result)"
   ]
  },
  {
   "cell_type": "code",
   "execution_count": 57,
   "id": "ad5333ff-db8f-48c3-bdb5-4564ba496daa",
   "metadata": {},
   "outputs": [
    {
     "name": "stdout",
     "output_type": "stream",
     "text": [
      "HELLO world\n"
     ]
    }
   ],
   "source": [
    "#if we give the subset not present in the string then find() returns -1\n",
    "#replace\n",
    "message = \"hello world\"\n",
    "result = message.replace(\"hello\",\"HELLO\")\n",
    "print(result)"
   ]
  },
  {
   "cell_type": "code",
   "execution_count": 62,
   "id": "d0d0e377-ba6b-4201-a8b1-914a868cdd43",
   "metadata": {},
   "outputs": [
    {
     "name": "stdout",
     "output_type": "stream",
     "text": [
      "k cha sansar\n"
     ]
    }
   ],
   "source": [
    "result = message.replace(\"hello world\",\"k cha sansar\")\n",
    "print(result)"
   ]
  }
 ],
 "metadata": {
  "kernelspec": {
   "display_name": "Python 3 (ipykernel)",
   "language": "python",
   "name": "python3"
  },
  "language_info": {
   "codemirror_mode": {
    "name": "ipython",
    "version": 3
   },
   "file_extension": ".py",
   "mimetype": "text/x-python",
   "name": "python",
   "nbconvert_exporter": "python",
   "pygments_lexer": "ipython3",
   "version": "3.11.4"
  }
 },
 "nbformat": 4,
 "nbformat_minor": 5
}
