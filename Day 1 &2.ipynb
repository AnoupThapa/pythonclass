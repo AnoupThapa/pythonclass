{
 "cells": [
  {
   "cell_type": "code",
   "execution_count": 14,
   "id": "e9a6f979-5182-4f60-8428-cf3bfaa51285",
   "metadata": {},
   "outputs": [],
   "source": [
    "gravity = 9.8"
   ]
  },
  {
   "cell_type": "code",
   "execution_count": 15,
   "id": "d2dffe94-6cc1-4f4a-af7b-9d332ce7f76f",
   "metadata": {},
   "outputs": [],
   "source": [
    "xyz = 2.4"
   ]
  },
  {
   "cell_type": "code",
   "execution_count": 18,
   "id": "cfadeff3-4111-4481-9f0b-cb6ff29c2382",
   "metadata": {},
   "outputs": [
    {
     "name": "stdout",
     "output_type": "stream",
     "text": [
      "21\n"
     ]
    }
   ],
   "source": [
    "x = (1 + 2 +\n",
    "     3 + 4 +\n",
    "     5 + 6)\n",
    "print (x)"
   ]
  },
  {
   "cell_type": "code",
   "execution_count": 19,
   "id": "7d7235f6-3bb7-414a-9ff7-4e2f86a7780d",
   "metadata": {},
   "outputs": [
    {
     "name": "stdout",
     "output_type": "stream",
     "text": [
      "21\n"
     ]
    }
   ],
   "source": [
    "print (x)"
   ]
  },
  {
   "cell_type": "code",
   "execution_count": 22,
   "id": "3e6ed4a2-d5d0-43f6-b88e-bcab64b608c2",
   "metadata": {},
   "outputs": [
    {
     "name": "stdout",
     "output_type": "stream",
     "text": [
      "243\n"
     ]
    }
   ],
   "source": [
    "x = (1+ 2 + 5 + 8 + 9 + 10 +\n",
    "     25+25+58+100)\n",
    "print (x)\n"
   ]
  },
  {
   "cell_type": "code",
   "execution_count": 33,
   "id": "ec41186b-83fb-4c43-8162-f84ab908ee86",
   "metadata": {},
   "outputs": [
    {
     "name": "stdout",
     "output_type": "stream",
     "text": [
      "1 2 3 4 5\n"
     ]
    }
   ],
   "source": [
    "a = 1;b = 2; c = 3; d = 4; e= 5; #THis is command\n",
    "print(a,b,c,d,e)"
   ]
  },
  {
   "cell_type": "code",
   "execution_count": 26,
   "id": "bbcc66ac-ed4a-4bc2-8cde-112204846fe7",
   "metadata": {},
   "outputs": [
    {
     "name": "stdout",
     "output_type": "stream",
     "text": [
      "1 1 1\n"
     ]
    }
   ],
   "source": [
    "a=b=c=1\n",
    "print(a,b,c)"
   ]
  },
  {
   "cell_type": "code",
   "execution_count": 28,
   "id": "9a6839f7-f701-4058-9d91-ce29886975f4",
   "metadata": {},
   "outputs": [
    {
     "name": "stdout",
     "output_type": "stream",
     "text": [
      "Unauthorized\n"
     ]
    }
   ],
   "source": [
    "age = 17\n",
    "if age < 18:\n",
    "    print(\"Unauthorized\")"
   ]
  },
  {
   "cell_type": "code",
   "execution_count": 34,
   "id": "b0b63362-1a17-47e2-9783-d6e13ad51f49",
   "metadata": {},
   "outputs": [
    {
     "name": "stdout",
     "output_type": "stream",
     "text": [
      "authorized\n"
     ]
    }
   ],
   "source": [
    "age = 21\n",
    "if age > 18:\n",
    "    print (\"authorized\")"
   ]
  },
  {
   "cell_type": "code",
   "execution_count": 36,
   "id": "c88baf35-aa85-4442-90f6-0cd057ccb5db",
   "metadata": {},
   "outputs": [
    {
     "data": {
      "text/plain": [
       "4"
      ]
     },
     "execution_count": 36,
     "metadata": {},
     "output_type": "execute_result"
    }
   ],
   "source": [
    "2 ** 2"
   ]
  },
  {
   "cell_type": "code",
   "execution_count": 46,
   "id": "ca45476c-813b-41f4-b01e-6b100e806571",
   "metadata": {},
   "outputs": [],
   "source": [
    "X = 1\n",
    "Y = 2\n",
    "Z = 3"
   ]
  },
  {
   "cell_type": "code",
   "execution_count": 48,
   "id": "172afb67-3444-4cf8-9643-032d050004fb",
   "metadata": {},
   "outputs": [
    {
     "name": "stdout",
     "output_type": "stream",
     "text": [
      "1 2 3\n"
     ]
    }
   ],
   "source": [
    "x,y,z =1,2,3\n",
    "print (x,y,z)"
   ]
  },
  {
   "cell_type": "code",
   "execution_count": 1,
   "id": "e7af00ed-2af9-4e4f-9967-a3fe0d69b231",
   "metadata": {},
   "outputs": [],
   "source": [
    "GRAVITY = 9.8 #Constant = uppercase variables"
   ]
  },
  {
   "cell_type": "code",
   "execution_count": 53,
   "id": "744b0782-fa12-4fd6-bc02-838eca3e1d89",
   "metadata": {},
   "outputs": [],
   "source": [
    "NAME = 0"
   ]
  },
  {
   "cell_type": "code",
   "execution_count": 55,
   "id": "56d54c6b-4c22-498d-b297-a598ae71a1ef",
   "metadata": {},
   "outputs": [
    {
     "name": "stdout",
     "output_type": "stream",
     "text": [
      "10 100 200 4813\n"
     ]
    }
   ],
   "source": [
    "a = 0b1010 #binary literals = 2 digits 0,1\n",
    "b = 100#Decimal literal = 10 digitis 0-9\n",
    "c = 0o310 #octal literal = 8 digit 0-7\n",
    "d = 0x12cd #Hexadecimal Literal = 16 digit 0-9 a-f\n",
    "print (a,b,c,d)"
   ]
  },
  {
   "cell_type": "code",
   "execution_count": 56,
   "id": "2768b7ac-8694-43ee-834e-34b398a02e78",
   "metadata": {},
   "outputs": [],
   "source": [
    "name = 'ram'"
   ]
  },
  {
   "cell_type": "code",
   "execution_count": 58,
   "id": "08ca50c4-a0ea-480b-b9bc-8a995fdf2d0e",
   "metadata": {},
   "outputs": [],
   "source": [
    "name = \"ram\""
   ]
  },
  {
   "cell_type": "code",
   "execution_count": 59,
   "id": "5f7c7b56-8474-4be4-b235-1d498de5e97c",
   "metadata": {},
   "outputs": [],
   "source": [
    "name = \"\"\"ram\"\"\""
   ]
  },
  {
   "cell_type": "code",
   "execution_count": 62,
   "id": "09687023-ed6c-4297-a1e0-2a5bb6c214d7",
   "metadata": {},
   "outputs": [],
   "source": [
    "name = '''ram'''"
   ]
  },
  {
   "cell_type": "code",
   "execution_count": 67,
   "id": "dcc3fab6-be3e-4183-9347-7b6c12308985",
   "metadata": {},
   "outputs": [
    {
     "name": "stdout",
     "output_type": "stream",
     "text": [
      "my name is ram. I am from KTM.\n"
     ]
    }
   ],
   "source": [
    "name = 'my name is ram. I am from KTM.'\n",
    "print(name)"
   ]
  },
  {
   "cell_type": "code",
   "execution_count": 69,
   "id": "660720a0-221c-455d-a688-5f20586953ce",
   "metadata": {},
   "outputs": [
    {
     "name": "stdout",
     "output_type": "stream",
     "text": [
      "my name is ram. and i am from KTM.\n"
     ]
    }
   ],
   "source": [
    "name = '''my name is ram. and i am from KTM.'''\n",
    "print(name)"
   ]
  },
  {
   "cell_type": "code",
   "execution_count": 66,
   "id": "d88c0d2f-15e7-40eb-af5a-01d59d497104",
   "metadata": {},
   "outputs": [
    {
     "name": "stdout",
     "output_type": "stream",
     "text": [
      "my name is ram. I am from ktm.\n"
     ]
    }
   ],
   "source": [
    "name = \"\"\"my name is ram. I am from ktm.\"\"\"\n",
    "print(name)"
   ]
  },
  {
   "cell_type": "code",
   "execution_count": 70,
   "id": "f27916a8-231a-4ee2-8a5c-4d3c35c46295",
   "metadata": {},
   "outputs": [
    {
     "name": "stdout",
     "output_type": "stream",
     "text": [
      "my name is ram.\n",
      "I am from ktm.\n"
     ]
    }
   ],
   "source": [
    "name = '''my name is ram.\n",
    "I am from ktm.'''\n",
    "print (name)"
   ]
  },
  {
   "cell_type": "code",
   "execution_count": 77,
   "id": "79cc0fe0-f84b-49a3-9e22-c46f70d53cde",
   "metadata": {},
   "outputs": [
    {
     "name": "stdout",
     "output_type": "stream",
     "text": [
      " my name\t is ram.\n",
      "I am \tfrom ktm.\n"
     ]
    }
   ],
   "source": [
    "name = 'my name\\t is ram.\\nI am \\tfrom ktm.'\n",
    "print (name)"
   ]
  },
  {
   "cell_type": "code",
   "execution_count": 78,
   "id": "6e64d3c0-fc97-487e-8c2e-59e1f0cbc9d2",
   "metadata": {},
   "outputs": [],
   "source": [
    "name = 'अनुप '"
   ]
  },
  {
   "cell_type": "code",
   "execution_count": 79,
   "id": "1c0dcb62-2bb0-4a19-aa72-5369d3f5367d",
   "metadata": {},
   "outputs": [
    {
     "name": "stdout",
     "output_type": "stream",
     "text": [
      "अनुप \n"
     ]
    }
   ],
   "source": [
    "print(name)"
   ]
  },
  {
   "cell_type": "code",
   "execution_count": 81,
   "id": "551852e4-ef7c-41c9-aad5-90c6d29899b0",
   "metadata": {},
   "outputs": [
    {
     "name": "stdout",
     "output_type": "stream",
     "text": [
      "अनुप कुमार थापा \n"
     ]
    }
   ],
   "source": [
    "name ='अनुप कुमार थापा '\n",
    "print (name)"
   ]
  },
  {
   "cell_type": "code",
   "execution_count": 82,
   "id": "d5945a8d-ee86-4110-9114-512f4a2de8ce",
   "metadata": {},
   "outputs": [
    {
     "name": "stdout",
     "output_type": "stream",
     "text": [
      "True False\n"
     ]
    }
   ],
   "source": [
    "x = True #boolean\n",
    "y = False #boolean\n",
    "print (x,y)"
   ]
  },
  {
   "cell_type": "code",
   "execution_count": 83,
   "id": "f3794179-6f40-456b-842b-e565367c006b",
   "metadata": {},
   "outputs": [
    {
     "name": "stdout",
     "output_type": "stream",
     "text": [
      "['apple', 'banana']\n",
      "{1, 2, 3}\n",
      "{'e', 'u', 'a', 'i', 'o'}\n"
     ]
    }
   ],
   "source": [
    "fruits = ['apple', 'banana'] #List\n",
    "numbers = {1,2,3} #tuple\n",
    "vowels = {'a','e','i','o','u'} #set\n",
    "print (fruits)\n",
    "print (numbers)\n",
    "print (vowels)"
   ]
  },
  {
   "cell_type": "code",
   "execution_count": 3,
   "id": "effaddc4-4c68-4255-823a-343ab8054e75",
   "metadata": {},
   "outputs": [
    {
     "name": "stdout",
     "output_type": "stream",
     "text": [
      "{'name': 'ram', 'address': 'ktm', 'contact': '9841', 'gender': 'male'}\n"
     ]
    }
   ],
   "source": [
    "person = {\n",
    "    \"name\":\"ram\", #key:value\n",
    "    \"address\":\"ktm\",#key: value\n",
    "    \"contact\":\"9841\",\n",
    "    \"gender\": \"male\"\n",
    "}\n",
    "print (person)"
   ]
  },
  {
   "cell_type": "code",
   "execution_count": 4,
   "id": "7131667c-6c93-4d19-ab8b-975d18f8faa9",
   "metadata": {},
   "outputs": [
    {
     "name": "stdout",
     "output_type": "stream",
     "text": [
      "<class 'int'>\n"
     ]
    }
   ],
   "source": [
    "x = 1000 \n",
    "y = int(x) #converting string to integer\n",
    "print (type(x))"
   ]
  },
  {
   "cell_type": "code",
   "execution_count": 5,
   "id": "0308217a-0976-4c3f-a213-d6e76c50e683",
   "metadata": {},
   "outputs": [
    {
     "ename": "KeyboardInterrupt",
     "evalue": "Interrupted by user",
     "output_type": "error",
     "traceback": [
      "\u001b[1;31m---------------------------------------------------------------------------\u001b[0m",
      "\u001b[1;31mKeyboardInterrupt\u001b[0m                         Traceback (most recent call last)",
      "Cell \u001b[1;32mIn[5], line 1\u001b[0m\n\u001b[1;32m----> 1\u001b[0m p \u001b[38;5;241m=\u001b[39m \u001b[38;5;28;43minput\u001b[39;49m\u001b[43m(\u001b[49m\u001b[38;5;124;43m\"\u001b[39;49m\u001b[38;5;124;43mEnter Principle:\u001b[39;49m\u001b[38;5;124;43m\"\u001b[39;49m\u001b[43m)\u001b[49m\n\u001b[0;32m      2\u001b[0m t \u001b[38;5;241m=\u001b[39m \u001b[38;5;28minput\u001b[39m (\u001b[38;5;124m\"\u001b[39m\u001b[38;5;124mEnter time:\u001b[39m\u001b[38;5;124m\"\u001b[39m)\n\u001b[0;32m      3\u001b[0m r \u001b[38;5;241m=\u001b[39m \u001b[38;5;28minput\u001b[39m (\u001b[38;5;124m\"\u001b[39m\u001b[38;5;124mEnter Rate:\u001b[39m\u001b[38;5;124m\"\u001b[39m)\n",
      "File \u001b[1;32m~\\AppData\\Local\\Programs\\Python\\Python311\\Lib\\site-packages\\ipykernel\\kernelbase.py:1202\u001b[0m, in \u001b[0;36mKernel.raw_input\u001b[1;34m(self, prompt)\u001b[0m\n\u001b[0;32m   1200\u001b[0m     msg \u001b[38;5;241m=\u001b[39m \u001b[38;5;124m\"\u001b[39m\u001b[38;5;124mraw_input was called, but this frontend does not support input requests.\u001b[39m\u001b[38;5;124m\"\u001b[39m\n\u001b[0;32m   1201\u001b[0m     \u001b[38;5;28;01mraise\u001b[39;00m StdinNotImplementedError(msg)\n\u001b[1;32m-> 1202\u001b[0m \u001b[38;5;28;01mreturn\u001b[39;00m \u001b[38;5;28;43mself\u001b[39;49m\u001b[38;5;241;43m.\u001b[39;49m\u001b[43m_input_request\u001b[49m\u001b[43m(\u001b[49m\n\u001b[0;32m   1203\u001b[0m \u001b[43m    \u001b[49m\u001b[38;5;28;43mstr\u001b[39;49m\u001b[43m(\u001b[49m\u001b[43mprompt\u001b[49m\u001b[43m)\u001b[49m\u001b[43m,\u001b[49m\n\u001b[0;32m   1204\u001b[0m \u001b[43m    \u001b[49m\u001b[38;5;28;43mself\u001b[39;49m\u001b[38;5;241;43m.\u001b[39;49m\u001b[43m_parent_ident\u001b[49m\u001b[43m[\u001b[49m\u001b[38;5;124;43m\"\u001b[39;49m\u001b[38;5;124;43mshell\u001b[39;49m\u001b[38;5;124;43m\"\u001b[39;49m\u001b[43m]\u001b[49m\u001b[43m,\u001b[49m\n\u001b[0;32m   1205\u001b[0m \u001b[43m    \u001b[49m\u001b[38;5;28;43mself\u001b[39;49m\u001b[38;5;241;43m.\u001b[39;49m\u001b[43mget_parent\u001b[49m\u001b[43m(\u001b[49m\u001b[38;5;124;43m\"\u001b[39;49m\u001b[38;5;124;43mshell\u001b[39;49m\u001b[38;5;124;43m\"\u001b[39;49m\u001b[43m)\u001b[49m\u001b[43m,\u001b[49m\n\u001b[0;32m   1206\u001b[0m \u001b[43m    \u001b[49m\u001b[43mpassword\u001b[49m\u001b[38;5;241;43m=\u001b[39;49m\u001b[38;5;28;43;01mFalse\u001b[39;49;00m\u001b[43m,\u001b[49m\n\u001b[0;32m   1207\u001b[0m \u001b[43m\u001b[49m\u001b[43m)\u001b[49m\n",
      "File \u001b[1;32m~\\AppData\\Local\\Programs\\Python\\Python311\\Lib\\site-packages\\ipykernel\\kernelbase.py:1245\u001b[0m, in \u001b[0;36mKernel._input_request\u001b[1;34m(self, prompt, ident, parent, password)\u001b[0m\n\u001b[0;32m   1242\u001b[0m \u001b[38;5;28;01mexcept\u001b[39;00m \u001b[38;5;167;01mKeyboardInterrupt\u001b[39;00m:\n\u001b[0;32m   1243\u001b[0m     \u001b[38;5;66;03m# re-raise KeyboardInterrupt, to truncate traceback\u001b[39;00m\n\u001b[0;32m   1244\u001b[0m     msg \u001b[38;5;241m=\u001b[39m \u001b[38;5;124m\"\u001b[39m\u001b[38;5;124mInterrupted by user\u001b[39m\u001b[38;5;124m\"\u001b[39m\n\u001b[1;32m-> 1245\u001b[0m     \u001b[38;5;28;01mraise\u001b[39;00m \u001b[38;5;167;01mKeyboardInterrupt\u001b[39;00m(msg) \u001b[38;5;28;01mfrom\u001b[39;00m \u001b[38;5;28;01mNone\u001b[39;00m\n\u001b[0;32m   1246\u001b[0m \u001b[38;5;28;01mexcept\u001b[39;00m \u001b[38;5;167;01mException\u001b[39;00m:\n\u001b[0;32m   1247\u001b[0m     \u001b[38;5;28mself\u001b[39m\u001b[38;5;241m.\u001b[39mlog\u001b[38;5;241m.\u001b[39mwarning(\u001b[38;5;124m\"\u001b[39m\u001b[38;5;124mInvalid Message:\u001b[39m\u001b[38;5;124m\"\u001b[39m, exc_info\u001b[38;5;241m=\u001b[39m\u001b[38;5;28;01mTrue\u001b[39;00m)\n",
      "\u001b[1;31mKeyboardInterrupt\u001b[0m: Interrupted by user"
     ]
    },
    {
     "name": "stdin",
     "output_type": "stream",
     "text": [
      "Enter Principle: 1000\n"
     ]
    }
   ],
   "source": [
    "p = input(\"Enter Principle:\")\n",
    "t = input (\"Enter time:\")\n",
    "r = input (\"Enter Rate:\")\n",
    "si = (p*t*r)/100"
   ]
  },
  {
   "cell_type": "code",
   "execution_count": 6,
   "id": "1ed566e9-6276-462e-a3d9-223aa74636df",
   "metadata": {},
   "outputs": [
    {
     "name": "stdout",
     "output_type": "stream",
     "text": [
      "5000.0\n"
     ]
    }
   ],
   "source": [
    "print (si)"
   ]
  },
  {
   "cell_type": "code",
   "execution_count": 7,
   "id": "e37d4ea0-a152-4718-823d-22bcb16734db",
   "metadata": {},
   "outputs": [
    {
     "name": "stdin",
     "output_type": "stream",
     "text": [
      "Enter Principle: 1000\n",
      "Enter time: 5\n",
      "Enter Rate: 2\n"
     ]
    },
    {
     "ename": "TypeError",
     "evalue": "can't multiply sequence by non-int of type 'str'",
     "output_type": "error",
     "traceback": [
      "\u001b[1;31m---------------------------------------------------------------------------\u001b[0m",
      "\u001b[1;31mTypeError\u001b[0m                                 Traceback (most recent call last)",
      "Cell \u001b[1;32mIn[7], line 4\u001b[0m\n\u001b[0;32m      2\u001b[0m t \u001b[38;5;241m=\u001b[39m \u001b[38;5;28minput\u001b[39m (\u001b[38;5;124m\"\u001b[39m\u001b[38;5;124mEnter time:\u001b[39m\u001b[38;5;124m\"\u001b[39m)\n\u001b[0;32m      3\u001b[0m r \u001b[38;5;241m=\u001b[39m \u001b[38;5;28minput\u001b[39m (\u001b[38;5;124m\"\u001b[39m\u001b[38;5;124mEnter Rate:\u001b[39m\u001b[38;5;124m\"\u001b[39m)\n\u001b[1;32m----> 4\u001b[0m si \u001b[38;5;241m=\u001b[39m (\u001b[43mp\u001b[49m\u001b[38;5;241;43m*\u001b[39;49m\u001b[43mt\u001b[49m\u001b[38;5;241m*\u001b[39mr)\u001b[38;5;241m/\u001b[39m\u001b[38;5;241m100\u001b[39m\n\u001b[0;32m      5\u001b[0m \u001b[38;5;28mprint\u001b[39m (si)\n",
      "\u001b[1;31mTypeError\u001b[0m: can't multiply sequence by non-int of type 'str'"
     ]
    }
   ],
   "source": [
    "p = input(\"Enter Principle:\")\n",
    "t = input (\"Enter time:\")\n",
    "r = input (\"Enter Rate:\")\n",
    "si = (p*t*r)/100\n",
    "print (si)"
   ]
  },
  {
   "cell_type": "code",
   "execution_count": 8,
   "id": "a0b9be42-b071-48f7-9133-a80a589a6a3d",
   "metadata": {},
   "outputs": [
    {
     "name": "stdin",
     "output_type": "stream",
     "text": [
      "Enter Principle: 10000\n",
      "Enter time: 5\n",
      "Enter Rate: 2\n"
     ]
    },
    {
     "name": "stdout",
     "output_type": "stream",
     "text": [
      "1000.0\n"
     ]
    }
   ],
   "source": [
    "p = int (input(\"Enter Principle:\")) #converting the variable to integer for finding Si\n",
    "t = int (input (\"Enter time:\"))\n",
    "r = int (input (\"Enter Rate:\"))\n",
    "si = (p*t*r)/100\n",
    "print (si)"
   ]
  },
  {
   "cell_type": "code",
   "execution_count": 10,
   "id": "afa4e66f-043e-4c19-ab60-9fd70b1e81aa",
   "metadata": {},
   "outputs": [
    {
     "name": "stdout",
     "output_type": "stream",
     "text": [
      "my name is {first_name} {last_name}\n"
     ]
    }
   ],
   "source": [
    "first_name = 'ram'\n",
    "last_name = 'bahadur'\n",
    "print(\"my name is {first_name} {last_name}\") #f-string interpolation"
   ]
  },
  {
   "cell_type": "code",
   "execution_count": 11,
   "id": "e5c06f1c-1a9d-4aa7-a164-79b01aeacca8",
   "metadata": {},
   "outputs": [
    {
     "name": "stdout",
     "output_type": "stream",
     "text": [
      "my name is ram bahadur\n"
     ]
    }
   ],
   "source": [
    "first_name = 'ram'\n",
    "last_name = 'bahadur'\n",
    "print(f\"my name is {first_name} {last_name}\") #f-string interpolation"
   ]
  },
  {
   "cell_type": "code",
   "execution_count": 16,
   "id": "98186669-f8a9-4adb-8e3b-d59dfde9d5ea",
   "metadata": {},
   "outputs": [
    {
     "name": "stdout",
     "output_type": "stream",
     "text": [
      "my name is ram bahadur thapa\n"
     ]
    }
   ],
   "source": [
    "first_name = 'ram'\n",
    "middle_name = 'bahadur'\n",
    "last_name = 'thapa'\n",
    "print(\"my name is {} {} {}\".format(first_name, middle_name, last_name)) #string interpolation with format"
   ]
  },
  {
   "cell_type": "code",
   "execution_count": 18,
   "id": "6ff28d88-2724-4ede-a148-93785c4df4a3",
   "metadata": {},
   "outputs": [
    {
     "name": "stdout",
     "output_type": "stream",
     "text": [
      "rambahadur\n"
     ]
    }
   ],
   "source": [
    "first_name = 'ram'\n",
    "last_name = 'bahadur'\n",
    "full_name = first_name + last_name\n",
    "print (full_name)#concatenation"
   ]
  },
  {
   "cell_type": "code",
   "execution_count": 24,
   "id": "4b95f3bc-7533-4f13-af04-fc5c21dd5336",
   "metadata": {},
   "outputs": [
    {
     "name": "stdout",
     "output_type": "stream",
     "text": [
      "my name is ram bahadur\n"
     ]
    }
   ],
   "source": [
    "first_name = 'ram'\n",
    "last_name = 'bahadur'\n",
    "print (\"my name is \" + first_name +\" \"+last_name)"
   ]
  },
  {
   "cell_type": "code",
   "execution_count": 25,
   "id": "dc3d4fa6-25e1-40b3-bab1-92b934314ace",
   "metadata": {},
   "outputs": [
    {
     "name": "stdout",
     "output_type": "stream",
     "text": [
      "Help on built-in function print in module builtins:\n",
      "\n",
      "print(*args, sep=' ', end='\\n', file=None, flush=False)\n",
      "    Prints the values to a stream, or to sys.stdout by default.\n",
      "    \n",
      "    sep\n",
      "      string inserted between values, default a space.\n",
      "    end\n",
      "      string appended after the last value, default a newline.\n",
      "    file\n",
      "      a file-like object (stream); defaults to the current sys.stdout.\n",
      "    flush\n",
      "      whether to forcibly flush the stream.\n",
      "\n"
     ]
    }
   ],
   "source": [
    "help(print)\n"
   ]
  },
  {
   "cell_type": "code",
   "execution_count": 26,
   "id": "205e96bb-f649-45b8-98bd-5dfd88a53db8",
   "metadata": {},
   "outputs": [
    {
     "name": "stdout",
     "output_type": "stream",
     "text": [
      "1#2#3#3#4#4\n"
     ]
    }
   ],
   "source": [
    "print(1,2,3,3,4,4,sep =\"#\") #to separate the integers by # instead of comma"
   ]
  },
  {
   "cell_type": "code",
   "execution_count": 27,
   "id": "8c7894c9-6e85-4267-9385-52d4d98d85f7",
   "metadata": {},
   "outputs": [
    {
     "name": "stdout",
     "output_type": "stream",
     "text": [
      "1 2 3 3 4 4\n",
      "1 2 3 3 4 4\n",
      "1 2 3 3 4 4\n",
      "1 2 3 3 4 4\n",
      "1 2 3 3 4 4\n"
     ]
    }
   ],
   "source": [
    "print (1,2,3,3,4,4)\n",
    "print (1,2,3,3,4,4)\n",
    "print (1,2,3,3,4,4)\n",
    "print (1,2,3,3,4,4)\n",
    "print (1,2,3,3,4,4)"
   ]
  },
  {
   "cell_type": "code",
   "execution_count": 31,
   "id": "9bb79a36-4529-412c-8e74-8de1b817ccc2",
   "metadata": {},
   "outputs": [
    {
     "name": "stdout",
     "output_type": "stream",
     "text": [
      "1+2+3+4\n"
     ]
    }
   ],
   "source": [
    "print(1,2,3,4, sep =\"+\")"
   ]
  },
  {
   "cell_type": "code",
   "execution_count": 35,
   "id": "25a059cd-d830-4d27-825f-9a64cfc16f6c",
   "metadata": {},
   "outputs": [
    {
     "name": "stdout",
     "output_type": "stream",
     "text": [
      "1 2 3 3 4 4#1+2+3+3+4+4\n",
      "1 2 3 3 4 4#1 2 3 3 4 4\n",
      "1 2 3 3 4 4\n"
     ]
    }
   ],
   "source": [
    "print (1,2,3,3,4,4, end =\"#\")\n",
    "print (1,2,3,3,4,4, sep =\"+\") \n",
    "print (1,2,3,3,4,4, end =\"#\")\n",
    "print (1,2,3,3,4,4)\n",
    "print (1,2,3,3,4,4)"
   ]
  },
  {
   "cell_type": "code",
   "execution_count": 36,
   "id": "c2928753-5671-4cdd-b238-0c50a7ea99f9",
   "metadata": {},
   "outputs": [
    {
     "name": "stdout",
     "output_type": "stream",
     "text": [
      "8910\n"
     ]
    }
   ],
   "source": [
    "number = 8910\n",
    "print(number)"
   ]
  },
  {
   "cell_type": "code",
   "execution_count": 38,
   "id": "e948256a-6152-463e-b89c-a0571170b873",
   "metadata": {},
   "outputs": [
    {
     "name": "stdout",
     "output_type": "stream",
     "text": [
      "the number is: 8910\n"
     ]
    }
   ],
   "source": [
    "number = 8910\n",
    "print (f\"the number is: {number:d}\") #the number is for integer number formatting = decimal\n"
   ]
  },
  {
   "cell_type": "code",
   "execution_count": 42,
   "id": "cc178581-a5cb-422d-b612-f095e58922b2",
   "metadata": {},
   "outputs": [
    {
     "name": "stdout",
     "output_type": "stream",
     "text": [
      "the number is: 21316\n"
     ]
    }
   ],
   "source": [
    "print (f\"the number is: {number:o}\") #the number is for octal number formatting, binary and hexadecimal format\n"
   ]
  },
  {
   "cell_type": "code",
   "execution_count": 40,
   "id": "e6e633fd-ac6f-416a-9228-eac4e8cf1ae0",
   "metadata": {},
   "outputs": [
    {
     "name": "stdout",
     "output_type": "stream",
     "text": [
      "the number is: 10001011001110\n"
     ]
    }
   ],
   "source": [
    "print (f\"the number is: {number:b}\") #b is for binary number formating\n"
   ]
  },
  {
   "cell_type": "code",
   "execution_count": 41,
   "id": "bcfcfe8a-17ed-46b9-b911-de1b2be00d05",
   "metadata": {},
   "outputs": [
    {
     "name": "stdout",
     "output_type": "stream",
     "text": [
      "the number is: 22ce\n"
     ]
    }
   ],
   "source": [
    "print (f\"the number is: {number:x}\")\n",
    "#x is for hexadecimal format"
   ]
  },
  {
   "cell_type": "markdown",
   "id": "6cecfc5e-fe20-4e3e-94fd-f48cddee3058",
   "metadata": {},
   "source": [
    "r = int (input (\"Enter radius:\"))\n",
    "pi = 22/7\n",
    "area = pi*r^2\n",
    "print(area)"
   ]
  },
  {
   "cell_type": "code",
   "execution_count": 47,
   "id": "d1ce1959-6b6a-4c60-8f1b-61ef5ec7ec3e",
   "metadata": {},
   "outputs": [
    {
     "name": "stdin",
     "output_type": "stream",
     "text": [
      "Enter the radius: 2\n"
     ]
    },
    {
     "name": "stdout",
     "output_type": "stream",
     "text": [
      "area:  12.566370614359172\n",
      "perimeter:  12.566370614359172\n"
     ]
    }
   ],
   "source": [
    "from math import pi\n",
    "\n",
    "radius = float(input(\"Enter the radius:\"))\n",
    "area = pi * radius ** 2\n",
    "perimeter = 2 * pi * radius\n",
    "print (\"area: \",area)\n",
    "print (\"perimeter: \",perimeter)"
   ]
  },
  {
   "cell_type": "code",
   "execution_count": 48,
   "id": "954a8372-d102-4dbd-8814-39a02d63fe64",
   "metadata": {},
   "outputs": [
    {
     "name": "stdout",
     "output_type": "stream",
     "text": [
      "9\n",
      "-1\n",
      "20\n",
      "0.8\n"
     ]
    }
   ],
   "source": [
    "x = 4\n",
    "y = 5\n",
    "sum = x + y\n",
    "sub =x -y\n",
    "mul = x*y\n",
    "div = x/y\n",
    "print(sum)\n",
    "print (sub)\n",
    "print(mul)\n",
    "print (div)"
   ]
  },
  {
   "cell_type": "code",
   "execution_count": 49,
   "id": "106a4d4b-9fe6-4e9b-9816-e2e320013f18",
   "metadata": {},
   "outputs": [
    {
     "name": "stdout",
     "output_type": "stream",
     "text": [
      "9 -1 20 0.8\n"
     ]
    }
   ],
   "source": [
    "print(sum,sub,mul,div)"
   ]
  },
  {
   "cell_type": "code",
   "execution_count": 50,
   "id": "bdcafef6-c02e-4152-92e8-dbc5f1876009",
   "metadata": {},
   "outputs": [
    {
     "data": {
      "text/plain": [
       "2.5"
      ]
     },
     "execution_count": 50,
     "metadata": {},
     "output_type": "execute_result"
    }
   ],
   "source": [
    "5/2"
   ]
  },
  {
   "cell_type": "code",
   "execution_count": 53,
   "id": "2641e8e4-51a9-479f-9b37-cd889d509326",
   "metadata": {},
   "outputs": [
    {
     "data": {
      "text/plain": [
       "1"
      ]
     },
     "execution_count": 53,
     "metadata": {},
     "output_type": "execute_result"
    }
   ],
   "source": [
    "5 % 2 # % = modulus operator it show remainder"
   ]
  },
  {
   "cell_type": "markdown",
   "id": "74cd10a1-3ab5-4fa2-a3c1-47af1593b7b8",
   "metadata": {},
   "source": [
    "5/2"
   ]
  },
  {
   "cell_type": "code",
   "execution_count": 54,
   "id": "f6bc26fd-dbd3-489b-80b9-4b71a7379e16",
   "metadata": {},
   "outputs": [
    {
     "data": {
      "text/plain": [
       "2"
      ]
     },
     "execution_count": 54,
     "metadata": {},
     "output_type": "execute_result"
    }
   ],
   "source": [
    "5//2 #floor division where initial integer will only show"
   ]
  },
  {
   "cell_type": "code",
   "execution_count": 55,
   "id": "a685767c-4967-46e1-8959-0e49882e320e",
   "metadata": {},
   "outputs": [
    {
     "data": {
      "text/plain": [
       "4"
      ]
     },
     "execution_count": 55,
     "metadata": {},
     "output_type": "execute_result"
    }
   ],
   "source": [
    "2**2"
   ]
  },
  {
   "cell_type": "code",
   "execution_count": 56,
   "id": "e8c0d434-1a0d-4971-93f7-590b0eab91b5",
   "metadata": {},
   "outputs": [
    {
     "data": {
      "text/plain": [
       "16"
      ]
     },
     "execution_count": 56,
     "metadata": {},
     "output_type": "execute_result"
    }
   ],
   "source": [
    "2**4 #Exponential/power operator"
   ]
  },
  {
   "cell_type": "code",
   "execution_count": 57,
   "id": "9b943734-a54c-4d02-aa08-d56a4d4ddca1",
   "metadata": {},
   "outputs": [
    {
     "ename": "SyntaxError",
     "evalue": "invalid syntax (1356775147.py, line 1)",
     "output_type": "error",
     "traceback": [
      "\u001b[1;36m  Cell \u001b[1;32mIn[57], line 1\u001b[1;36m\u001b[0m\n\u001b[1;33m    2****4\u001b[0m\n\u001b[1;37m       ^\u001b[0m\n\u001b[1;31mSyntaxError\u001b[0m\u001b[1;31m:\u001b[0m invalid syntax\n"
     ]
    }
   ],
   "source": [
    "2****4"
   ]
  },
  {
   "cell_type": "code",
   "execution_count": 58,
   "id": "ec5727eb-3861-466a-be8c-e5812643d36d",
   "metadata": {},
   "outputs": [
    {
     "ename": "SyntaxError",
     "evalue": "invalid syntax (3511430113.py, line 1)",
     "output_type": "error",
     "traceback": [
      "\u001b[1;36m  Cell \u001b[1;32mIn[58], line 1\u001b[1;36m\u001b[0m\n\u001b[1;33m    2***3\u001b[0m\n\u001b[1;37m       ^\u001b[0m\n\u001b[1;31mSyntaxError\u001b[0m\u001b[1;31m:\u001b[0m invalid syntax\n"
     ]
    }
   ],
   "source": [
    "2***3"
   ]
  },
  {
   "cell_type": "code",
   "execution_count": 59,
   "id": "cd4e2c1e-2c22-430f-b5e0-48a059d4a331",
   "metadata": {},
   "outputs": [
    {
     "data": {
      "text/plain": [
       "65536"
      ]
     },
     "execution_count": 59,
     "metadata": {},
     "output_type": "execute_result"
    }
   ],
   "source": [
    "2**16"
   ]
  },
  {
   "cell_type": "code",
   "execution_count": 60,
   "id": "7dcc893c-dd2f-448e-b017-74a663ff4fba",
   "metadata": {},
   "outputs": [
    {
     "data": {
      "text/plain": [
       "19683"
      ]
     },
     "execution_count": 60,
     "metadata": {},
     "output_type": "execute_result"
    }
   ],
   "source": [
    "3**9"
   ]
  },
  {
   "cell_type": "code",
   "execution_count": 61,
   "id": "fbf18129-f20b-4bab-aa72-aff8b98a171c",
   "metadata": {},
   "outputs": [
    {
     "data": {
      "text/plain": [
       "9"
      ]
     },
     "execution_count": 61,
     "metadata": {},
     "output_type": "execute_result"
    }
   ],
   "source": [
    "3*3"
   ]
  },
  {
   "cell_type": "code",
   "execution_count": 62,
   "id": "259990b8-dc41-41e7-81c4-1a50539777e1",
   "metadata": {},
   "outputs": [
    {
     "data": {
      "text/plain": [
       "81"
      ]
     },
     "execution_count": 62,
     "metadata": {},
     "output_type": "execute_result"
    }
   ],
   "source": [
    "3*3*3*3"
   ]
  },
  {
   "cell_type": "code",
   "execution_count": 63,
   "id": "c4d14ef0-54c1-4993-ba04-6df80d1d5d12",
   "metadata": {},
   "outputs": [
    {
     "ename": "SyntaxError",
     "evalue": "invalid syntax (3536820341.py, line 1)",
     "output_type": "error",
     "traceback": [
      "\u001b[1;36m  Cell \u001b[1;32mIn[63], line 1\u001b[1;36m\u001b[0m\n\u001b[1;33m    3***3\u001b[0m\n\u001b[1;37m       ^\u001b[0m\n\u001b[1;31mSyntaxError\u001b[0m\u001b[1;31m:\u001b[0m invalid syntax\n"
     ]
    }
   ],
   "source": [
    "3***3"
   ]
  },
  {
   "cell_type": "code",
   "execution_count": 64,
   "id": "fe8964db-7e90-4b29-996c-78675b7802a9",
   "metadata": {},
   "outputs": [
    {
     "ename": "SyntaxError",
     "evalue": "invalid syntax (417420637.py, line 1)",
     "output_type": "error",
     "traceback": [
      "\u001b[1;36m  Cell \u001b[1;32mIn[64], line 1\u001b[1;36m\u001b[0m\n\u001b[1;33m    3***9\u001b[0m\n\u001b[1;37m       ^\u001b[0m\n\u001b[1;31mSyntaxError\u001b[0m\u001b[1;31m:\u001b[0m invalid syntax\n"
     ]
    }
   ],
   "source": [
    "3***9"
   ]
  },
  {
   "cell_type": "code",
   "execution_count": 65,
   "id": "a1192f9c-f1f5-4475-ae16-19b7e374f948",
   "metadata": {},
   "outputs": [
    {
     "data": {
      "text/plain": [
       "19683"
      ]
     },
     "execution_count": 65,
     "metadata": {},
     "output_type": "execute_result"
    }
   ],
   "source": [
    "3**9"
   ]
  },
  {
   "cell_type": "code",
   "execution_count": 68,
   "id": "c5415d79-89ee-4262-8dfd-c74fdd9cb0d0",
   "metadata": {},
   "outputs": [
    {
     "data": {
      "text/plain": [
       "True"
      ]
     },
     "execution_count": 68,
     "metadata": {},
     "output_type": "execute_result"
    }
   ],
   "source": [
    "x = 8\n",
    "y = 2\n",
    "x > y"
   ]
  },
  {
   "cell_type": "code",
   "execution_count": 69,
   "id": "5f5ef3d8-a798-4591-a2a6-c9059b4ba6c1",
   "metadata": {},
   "outputs": [
    {
     "data": {
      "text/plain": [
       "False"
      ]
     },
     "execution_count": 69,
     "metadata": {},
     "output_type": "execute_result"
    }
   ],
   "source": [
    "x == y"
   ]
  },
  {
   "cell_type": "code",
   "execution_count": 70,
   "id": "0ff898b4-db87-4fed-ad3b-b5abc0db5423",
   "metadata": {},
   "outputs": [
    {
     "data": {
      "text/plain": [
       "False"
      ]
     },
     "execution_count": 70,
     "metadata": {},
     "output_type": "execute_result"
    }
   ],
   "source": [
    "x<y"
   ]
  },
  {
   "cell_type": "code",
   "execution_count": 71,
   "id": "1d352b91-a091-4897-9f71-102c9e0c1109",
   "metadata": {},
   "outputs": [
    {
     "data": {
      "text/plain": [
       "True"
      ]
     },
     "execution_count": 71,
     "metadata": {},
     "output_type": "execute_result"
    }
   ],
   "source": [
    "x!=y"
   ]
  },
  {
   "cell_type": "code",
   "execution_count": 72,
   "id": "1aece1dd-d5f8-41ba-a71c-2042629ed611",
   "metadata": {},
   "outputs": [
    {
     "data": {
      "text/plain": [
       "False"
      ]
     },
     "execution_count": 72,
     "metadata": {},
     "output_type": "execute_result"
    }
   ],
   "source": [
    "x<=y"
   ]
  },
  {
   "cell_type": "code",
   "execution_count": 73,
   "id": "1f4ef3e0-d466-4d1a-baa6-2c1c7e4fe566",
   "metadata": {},
   "outputs": [
    {
     "data": {
      "text/plain": [
       "True"
      ]
     },
     "execution_count": 73,
     "metadata": {},
     "output_type": "execute_result"
    }
   ],
   "source": [
    "x>=y"
   ]
  },
  {
   "cell_type": "code",
   "execution_count": 75,
   "id": "1cd30f88-0d48-4fc4-b027-085ce34b3972",
   "metadata": {},
   "outputs": [
    {
     "data": {
      "text/plain": [
       "5"
      ]
     },
     "execution_count": 75,
     "metadata": {},
     "output_type": "execute_result"
    }
   ],
   "source": [
    "len(\"apple\")"
   ]
  },
  {
   "cell_type": "code",
   "execution_count": 76,
   "id": "63fd056c-5d84-4200-a404-1a9dd2e1f44d",
   "metadata": {},
   "outputs": [
    {
     "data": {
      "text/plain": [
       "False"
      ]
     },
     "execution_count": 76,
     "metadata": {},
     "output_type": "execute_result"
    }
   ],
   "source": [
    "len(\"apple\") == len(\"avacoda\")"
   ]
  },
  {
   "cell_type": "code",
   "execution_count": 78,
   "id": "89304631-f0c8-4860-9986-112052985dd0",
   "metadata": {},
   "outputs": [],
   "source": [
    "# and =>all value should be true=> True\n",
    "# or => any value should be True =>True\n",
    "# not => Oposite value"
   ]
  },
  {
   "cell_type": "code",
   "execution_count": 80,
   "id": "fe0cd4ed-304e-4825-b093-0857b024517a",
   "metadata": {},
   "outputs": [
    {
     "data": {
      "text/plain": [
       "False"
      ]
     },
     "execution_count": 80,
     "metadata": {},
     "output_type": "execute_result"
    }
   ],
   "source": [
    "True and True and True\n",
    "True and False and True"
   ]
  },
  {
   "cell_type": "code",
   "execution_count": 81,
   "id": "1cf0f89a-6890-4178-9781-c59fc8a92329",
   "metadata": {},
   "outputs": [
    {
     "data": {
      "text/plain": [
       "True"
      ]
     },
     "execution_count": 81,
     "metadata": {},
     "output_type": "execute_result"
    }
   ],
   "source": [
    "True or False or True"
   ]
  },
  {
   "cell_type": "code",
   "execution_count": 82,
   "id": "c9652662-8411-4858-a45a-86f8a9328ee5",
   "metadata": {},
   "outputs": [
    {
     "data": {
      "text/plain": [
       "True"
      ]
     },
     "execution_count": 82,
     "metadata": {},
     "output_type": "execute_result"
    }
   ],
   "source": [
    "True and True or True"
   ]
  },
  {
   "cell_type": "code",
   "execution_count": 83,
   "id": "e5509ad3-1f35-4697-8fe2-7a5729f3b0b0",
   "metadata": {},
   "outputs": [
    {
     "data": {
      "text/plain": [
       "True"
      ]
     },
     "execution_count": 83,
     "metadata": {},
     "output_type": "execute_result"
    }
   ],
   "source": [
    "True or False"
   ]
  },
  {
   "cell_type": "code",
   "execution_count": 84,
   "id": "e319e9a8-574c-47ef-ac12-1002c1d0c8cf",
   "metadata": {},
   "outputs": [
    {
     "data": {
      "text/plain": [
       "False"
      ]
     },
     "execution_count": 84,
     "metadata": {},
     "output_type": "execute_result"
    }
   ],
   "source": [
    "False and False"
   ]
  },
  {
   "cell_type": "code",
   "execution_count": 85,
   "id": "8a952c91-d2f5-49b8-b42f-b1272430b033",
   "metadata": {},
   "outputs": [
    {
     "data": {
      "text/plain": [
       "True"
      ]
     },
     "execution_count": 85,
     "metadata": {},
     "output_type": "execute_result"
    }
   ],
   "source": [
    "False and False or True"
   ]
  },
  {
   "cell_type": "code",
   "execution_count": 86,
   "id": "38255828-fd4c-413d-979c-3946b11eeeb0",
   "metadata": {},
   "outputs": [
    {
     "data": {
      "text/plain": [
       "False"
      ]
     },
     "execution_count": 86,
     "metadata": {},
     "output_type": "execute_result"
    }
   ],
   "source": [
    "not True"
   ]
  },
  {
   "cell_type": "code",
   "execution_count": 87,
   "id": "54356ac7-1a21-44b6-b62c-43b254913efc",
   "metadata": {},
   "outputs": [
    {
     "data": {
      "text/plain": [
       "True"
      ]
     },
     "execution_count": 87,
     "metadata": {},
     "output_type": "execute_result"
    }
   ],
   "source": [
    "not False "
   ]
  },
  {
   "cell_type": "code",
   "execution_count": 88,
   "id": "f136f74d-b52f-4063-b306-e49865c4718f",
   "metadata": {},
   "outputs": [
    {
     "data": {
      "text/plain": [
       "True"
      ]
     },
     "execution_count": 88,
     "metadata": {},
     "output_type": "execute_result"
    }
   ],
   "source": [
    "not not True"
   ]
  },
  {
   "cell_type": "code",
   "execution_count": 89,
   "id": "e8e77088-31db-4928-94e2-62c00b21c920",
   "metadata": {},
   "outputs": [
    {
     "ename": "NameError",
     "evalue": "name 'true' is not defined",
     "output_type": "error",
     "traceback": [
      "\u001b[1;31m---------------------------------------------------------------------------\u001b[0m",
      "\u001b[1;31mNameError\u001b[0m                                 Traceback (most recent call last)",
      "Cell \u001b[1;32mIn[89], line 1\u001b[0m\n\u001b[1;32m----> 1\u001b[0m \u001b[38;5;129;01mnot\u001b[39;00m \u001b[38;5;129;01mnot\u001b[39;00m \u001b[38;5;129;01mnot\u001b[39;00m \u001b[38;5;129;01mnot\u001b[39;00m \u001b[43mtrue\u001b[49m\n",
      "\u001b[1;31mNameError\u001b[0m: name 'true' is not defined"
     ]
    }
   ],
   "source": [
    "not not not not true"
   ]
  },
  {
   "cell_type": "code",
   "execution_count": 90,
   "id": "e0066a50-94ab-4286-a011-b9408f5d54e8",
   "metadata": {},
   "outputs": [
    {
     "ename": "NameError",
     "evalue": "name 'true' is not defined",
     "output_type": "error",
     "traceback": [
      "\u001b[1;31m---------------------------------------------------------------------------\u001b[0m",
      "\u001b[1;31mNameError\u001b[0m                                 Traceback (most recent call last)",
      "Cell \u001b[1;32mIn[90], line 1\u001b[0m\n\u001b[1;32m----> 1\u001b[0m \u001b[38;5;129;01mnot\u001b[39;00m \u001b[38;5;129;01mnot\u001b[39;00m \u001b[38;5;129;01mnot\u001b[39;00m \u001b[43mtrue\u001b[49m\n",
      "\u001b[1;31mNameError\u001b[0m: name 'true' is not defined"
     ]
    }
   ],
   "source": [
    "not not not true"
   ]
  },
  {
   "cell_type": "code",
   "execution_count": 91,
   "id": "836c0123-b4cc-4b1c-96f9-d4eb9b376bb9",
   "metadata": {},
   "outputs": [
    {
     "ename": "SyntaxError",
     "evalue": "invalid syntax (3491391055.py, line 1)",
     "output_type": "error",
     "traceback": [
      "\u001b[1;36m  Cell \u001b[1;32mIn[91], line 1\u001b[1;36m\u001b[0m\n\u001b[1;33m    not not not True True\u001b[0m\n\u001b[1;37m                     ^\u001b[0m\n\u001b[1;31mSyntaxError\u001b[0m\u001b[1;31m:\u001b[0m invalid syntax\n"
     ]
    }
   ],
   "source": [
    "not not not True True"
   ]
  },
  {
   "cell_type": "code",
   "execution_count": 92,
   "id": "5b278bd1-a4b0-41c9-9773-9f91da131491",
   "metadata": {},
   "outputs": [
    {
     "data": {
      "text/plain": [
       "False"
      ]
     },
     "execution_count": 92,
     "metadata": {},
     "output_type": "execute_result"
    }
   ],
   "source": [
    "not not not True"
   ]
  },
  {
   "cell_type": "code",
   "execution_count": 93,
   "id": "6f067a1c-a7dd-49ce-9919-97ab09567acb",
   "metadata": {},
   "outputs": [
    {
     "data": {
      "text/plain": [
       "True"
      ]
     },
     "execution_count": 93,
     "metadata": {},
     "output_type": "execute_result"
    }
   ],
   "source": [
    "not not not not True"
   ]
  },
  {
   "cell_type": "code",
   "execution_count": 94,
   "id": "ad6a3b4c-8b41-457c-b77e-eed2e13c631b",
   "metadata": {},
   "outputs": [
    {
     "data": {
      "text/plain": [
       "True"
      ]
     },
     "execution_count": 94,
     "metadata": {},
     "output_type": "execute_result"
    }
   ],
   "source": [
    "not not not False"
   ]
  },
  {
   "cell_type": "code",
   "execution_count": 95,
   "id": "110d8a59-6007-48dd-ab86-7c1c82007d97",
   "metadata": {},
   "outputs": [
    {
     "data": {
      "text/plain": [
       "True"
      ]
     },
     "execution_count": 95,
     "metadata": {},
     "output_type": "execute_result"
    }
   ],
   "source": [
    "True and False or True"
   ]
  },
  {
   "cell_type": "code",
   "execution_count": 96,
   "id": "37210874-0976-4e21-baad-fdcaa036fa7a",
   "metadata": {},
   "outputs": [
    {
     "data": {
      "text/plain": [
       "True"
      ]
     },
     "execution_count": 96,
     "metadata": {},
     "output_type": "execute_result"
    }
   ],
   "source": [
    "True or False and True"
   ]
  },
  {
   "cell_type": "code",
   "execution_count": 97,
   "id": "85b0f174-5dad-4551-b805-25f25888885e",
   "metadata": {},
   "outputs": [
    {
     "data": {
      "text/plain": [
       "True"
      ]
     },
     "execution_count": 97,
     "metadata": {},
     "output_type": "execute_result"
    }
   ],
   "source": [
    "False or True and True"
   ]
  },
  {
   "cell_type": "code",
   "execution_count": 98,
   "id": "b6e92daa-71b6-4099-a485-4de208b2480a",
   "metadata": {},
   "outputs": [
    {
     "ename": "SyntaxError",
     "evalue": "invalid syntax (3720364577.py, line 1)",
     "output_type": "error",
     "traceback": [
      "\u001b[1;36m  Cell \u001b[1;32mIn[98], line 1\u001b[1;36m\u001b[0m\n\u001b[1;33m    True or False not True\u001b[0m\n\u001b[1;37m                      ^\u001b[0m\n\u001b[1;31mSyntaxError\u001b[0m\u001b[1;31m:\u001b[0m invalid syntax\n"
     ]
    }
   ],
   "source": [
    "True or False not True"
   ]
  },
  {
   "cell_type": "code",
   "execution_count": 99,
   "id": "6e87d960-e4a3-4581-a6e7-e81f881fbdd6",
   "metadata": {},
   "outputs": [
    {
     "data": {
      "text/plain": [
       "True"
      ]
     },
     "execution_count": 99,
     "metadata": {},
     "output_type": "execute_result"
    }
   ],
   "source": [
    "True and True or False and True"
   ]
  },
  {
   "cell_type": "code",
   "execution_count": 100,
   "id": "d788b7ec-4ba5-464e-83bb-cc50971cdc34",
   "metadata": {},
   "outputs": [
    {
     "data": {
      "text/plain": [
       "False"
      ]
     },
     "execution_count": 100,
     "metadata": {},
     "output_type": "execute_result"
    }
   ],
   "source": [
    "True and False or False"
   ]
  },
  {
   "cell_type": "code",
   "execution_count": 101,
   "id": "6e1804be-33dd-41fe-b32f-479b6ac52d7d",
   "metadata": {},
   "outputs": [
    {
     "ename": "NameError",
     "evalue": "name 'Ture' is not defined",
     "output_type": "error",
     "traceback": [
      "\u001b[1;31m---------------------------------------------------------------------------\u001b[0m",
      "\u001b[1;31mNameError\u001b[0m                                 Traceback (most recent call last)",
      "Cell \u001b[1;32mIn[101], line 1\u001b[0m\n\u001b[1;32m----> 1\u001b[0m \u001b[38;5;28;01mTrue\u001b[39;00m \u001b[38;5;129;01mand\u001b[39;00m (\u001b[38;5;129;01mnot\u001b[39;00m(\u001b[38;5;129;01mnot\u001b[39;00m \u001b[38;5;28;01mFalse\u001b[39;00m)) \u001b[38;5;129;01mor\u001b[39;00m (\u001b[43mTure\u001b[49m \u001b[38;5;129;01mand\u001b[39;00m (\u001b[38;5;129;01mnot\u001b[39;00m \u001b[38;5;28;01mTrue\u001b[39;00m))\n",
      "\u001b[1;31mNameError\u001b[0m: name 'Ture' is not defined"
     ]
    }
   ],
   "source": [
    "True and (not(not False)) or (Ture and (not True))"
   ]
  },
  {
   "cell_type": "code",
   "execution_count": 103,
   "id": "909cb81f-8e8b-45ac-97c2-dddcf7f90104",
   "metadata": {},
   "outputs": [
    {
     "data": {
      "text/plain": [
       "False"
      ]
     },
     "execution_count": 103,
     "metadata": {},
     "output_type": "execute_result"
    }
   ],
   "source": [
    "True and (not(not False)) or (True and (not True))"
   ]
  },
  {
   "cell_type": "code",
   "execution_count": 104,
   "id": "023a57de-326d-4c04-b8bd-c3da4f58504e",
   "metadata": {},
   "outputs": [
    {
     "data": {
      "text/plain": [
       "True"
      ]
     },
     "execution_count": 104,
     "metadata": {},
     "output_type": "execute_result"
    }
   ],
   "source": [
    "True or False and True "
   ]
  },
  {
   "cell_type": "code",
   "execution_count": 105,
   "id": "f82b2378-276b-410f-9ddf-a4046e91435c",
   "metadata": {},
   "outputs": [],
   "source": [
    "#precendence\n",
    "# 1. bracket\n",
    "# 2. and\n",
    "# 3. or"
   ]
  },
  {
   "cell_type": "code",
   "execution_count": 107,
   "id": "cbb74d4b-ad59-48ff-bfb7-53639987c92b",
   "metadata": {},
   "outputs": [
    {
     "data": {
      "text/plain": [
       "2"
      ]
     },
     "execution_count": 107,
     "metadata": {},
     "output_type": "execute_result"
    }
   ],
   "source": [
    "a = 2 #binary:0010\n",
    "b = 3 #binary: 0011\n",
    "a & b #bitwise and operator"
   ]
  },
  {
   "cell_type": "code",
   "execution_count": 108,
   "id": "17a362c1-4e3d-42f9-a7b0-5127223670c7",
   "metadata": {},
   "outputs": [
    {
     "data": {
      "text/plain": [
       "0.6666666666666666"
      ]
     },
     "execution_count": 108,
     "metadata": {},
     "output_type": "execute_result"
    }
   ],
   "source": [
    "a = 2 #binary:0010\n",
    "b = 3 #binary: 0011\n",
    "a & b #bitwise and operator\n",
    "a/b"
   ]
  },
  {
   "cell_type": "code",
   "execution_count": 109,
   "id": "acfc37cc-915c-4a8d-8402-a5b1e57b6332",
   "metadata": {},
   "outputs": [
    {
     "name": "stdout",
     "output_type": "stream",
     "text": [
      "10\n"
     ]
    }
   ],
   "source": [
    "x = 5\n",
    "x = x +5\n",
    "print(x)"
   ]
  },
  {
   "cell_type": "code",
   "execution_count": 112,
   "id": "267673af-4491-4377-b1ca-a1d0babd8969",
   "metadata": {},
   "outputs": [
    {
     "data": {
      "text/plain": [
       "True"
      ]
     },
     "execution_count": 112,
     "metadata": {},
     "output_type": "execute_result"
    }
   ],
   "source": [
    "x = 6 \n",
    "y = 6\n",
    "x == y #Checks the value of x and Y"
   ]
  },
  {
   "cell_type": "code",
   "execution_count": 113,
   "id": "eb488a87-5138-420c-98be-69e9590907ff",
   "metadata": {},
   "outputs": [
    {
     "data": {
      "text/plain": [
       "True"
      ]
     },
     "execution_count": 113,
     "metadata": {},
     "output_type": "execute_result"
    }
   ],
   "source": [
    "x is y #checks the memory address of x and y"
   ]
  },
  {
   "cell_type": "code",
   "execution_count": 114,
   "id": "8ead2cf7-04de-43a7-9d87-d817cb47ead3",
   "metadata": {},
   "outputs": [
    {
     "data": {
      "text/plain": [
       "140732233933768"
      ]
     },
     "execution_count": 114,
     "metadata": {},
     "output_type": "execute_result"
    }
   ],
   "source": [
    "id(x)"
   ]
  },
  {
   "cell_type": "code",
   "execution_count": 115,
   "id": "16940a47-3a55-46a0-9e5d-550761eb4141",
   "metadata": {},
   "outputs": [
    {
     "data": {
      "text/plain": [
       "140732233933768"
      ]
     },
     "execution_count": 115,
     "metadata": {},
     "output_type": "execute_result"
    }
   ],
   "source": [
    "id(y)"
   ]
  },
  {
   "cell_type": "code",
   "execution_count": 116,
   "id": "b7b196b6-26ab-493b-b37f-d49b25ac6b3a",
   "metadata": {},
   "outputs": [
    {
     "data": {
      "text/plain": [
       "True"
      ]
     },
     "execution_count": 116,
     "metadata": {},
     "output_type": "execute_result"
    }
   ],
   "source": [
    "x = 500\n",
    "y = 500\n",
    "x == y"
   ]
  },
  {
   "cell_type": "code",
   "execution_count": 117,
   "id": "798cfe8e-931a-4313-b16f-0f8355d9c1bf",
   "metadata": {},
   "outputs": [
    {
     "data": {
      "text/plain": [
       "False"
      ]
     },
     "execution_count": 117,
     "metadata": {},
     "output_type": "execute_result"
    }
   ],
   "source": [
    "x is y"
   ]
  },
  {
   "cell_type": "code",
   "execution_count": 118,
   "id": "30a76d0b-a1a0-4ee4-880c-8c3a8704234f",
   "metadata": {},
   "outputs": [
    {
     "data": {
      "text/plain": [
       "2064223393168"
      ]
     },
     "execution_count": 118,
     "metadata": {},
     "output_type": "execute_result"
    }
   ],
   "source": [
    "id(x)"
   ]
  },
  {
   "cell_type": "code",
   "execution_count": 119,
   "id": "f3280adf-df7e-4ca4-bbcc-32731ac146e0",
   "metadata": {},
   "outputs": [
    {
     "data": {
      "text/plain": [
       "2064223399984"
      ]
     },
     "execution_count": 119,
     "metadata": {},
     "output_type": "execute_result"
    }
   ],
   "source": [
    "id(y)"
   ]
  },
  {
   "cell_type": "code",
   "execution_count": 120,
   "id": "0cdab303-ba2b-46fa-a12e-2596db2964d8",
   "metadata": {},
   "outputs": [
    {
     "data": {
      "text/plain": [
       "True"
      ]
     },
     "execution_count": 120,
     "metadata": {},
     "output_type": "execute_result"
    }
   ],
   "source": [
    "x = 250\n",
    "y = 250\n",
    "x is y"
   ]
  },
  {
   "cell_type": "code",
   "execution_count": 121,
   "id": "3b434123-486d-4201-9176-9c2068062a89",
   "metadata": {},
   "outputs": [
    {
     "data": {
      "text/plain": [
       "140732233941576"
      ]
     },
     "execution_count": 121,
     "metadata": {},
     "output_type": "execute_result"
    }
   ],
   "source": [
    "id(x)"
   ]
  },
  {
   "cell_type": "code",
   "execution_count": 122,
   "id": "56cf8e5b-e6d3-4c89-a296-546b9f2040a7",
   "metadata": {},
   "outputs": [
    {
     "data": {
      "text/plain": [
       "140732233941576"
      ]
     },
     "execution_count": 122,
     "metadata": {},
     "output_type": "execute_result"
    }
   ],
   "source": [
    "id(y)"
   ]
  },
  {
   "cell_type": "code",
   "execution_count": 127,
   "id": "70e842c7-0cae-40d1-9644-e5221e8e88ea",
   "metadata": {},
   "outputs": [
    {
     "name": "stdout",
     "output_type": "stream",
     "text": [
      "140732233941736 140732233941736\n"
     ]
    }
   ],
   "source": [
    "x = 255\n",
    "y = 255\n",
    "print (id(x), id(y))"
   ]
  },
  {
   "cell_type": "code",
   "execution_count": 128,
   "id": "da1daf3a-f971-4722-a0dd-f27e7f5bff31",
   "metadata": {},
   "outputs": [
    {
     "name": "stdout",
     "output_type": "stream",
     "text": [
      "2064223393136 2064223400528\n"
     ]
    }
   ],
   "source": [
    "x = 257\n",
    "y = 257\n",
    "print (id(x), id(y))"
   ]
  },
  {
   "cell_type": "code",
   "execution_count": 130,
   "id": "13d80bc6-0c3b-43ed-9d5d-2603a01c3dce",
   "metadata": {},
   "outputs": [
    {
     "data": {
      "text/plain": [
       "False"
      ]
     },
     "execution_count": 130,
     "metadata": {},
     "output_type": "execute_result"
    }
   ],
   "source": [
    "x is y"
   ]
  },
  {
   "cell_type": "code",
   "execution_count": 131,
   "id": "08c7b8f2-fe06-4f05-b5ef-bfb7bdb27ca7",
   "metadata": {},
   "outputs": [
    {
     "ename": "NameError",
     "evalue": "name 'Y' is not defined",
     "output_type": "error",
     "traceback": [
      "\u001b[1;31m---------------------------------------------------------------------------\u001b[0m",
      "\u001b[1;31mNameError\u001b[0m                                 Traceback (most recent call last)",
      "Cell \u001b[1;32mIn[131], line 1\u001b[0m\n\u001b[1;32m----> 1\u001b[0m x \u001b[38;5;129;01mis\u001b[39;00m \u001b[43mY\u001b[49m\n",
      "\u001b[1;31mNameError\u001b[0m: name 'Y' is not defined"
     ]
    }
   ],
   "source": [
    "x is Y"
   ]
  },
  {
   "cell_type": "code",
   "execution_count": 132,
   "id": "6686a7b7-4e63-4370-ab10-c7d9925369ab",
   "metadata": {},
   "outputs": [
    {
     "data": {
      "text/plain": [
       "False"
      ]
     },
     "execution_count": 132,
     "metadata": {},
     "output_type": "execute_result"
    }
   ],
   "source": [
    "x is y"
   ]
  },
  {
   "cell_type": "code",
   "execution_count": 133,
   "id": "c0d5343a-6820-4a74-a934-a9e58ddb030e",
   "metadata": {},
   "outputs": [
    {
     "data": {
      "text/plain": [
       "True"
      ]
     },
     "execution_count": 133,
     "metadata": {},
     "output_type": "execute_result"
    }
   ],
   "source": [
    "'r' in 'ramesh'"
   ]
  },
  {
   "cell_type": "code",
   "execution_count": 134,
   "id": "e6207e09-5fc0-46b5-83a8-2ab9c02aefae",
   "metadata": {},
   "outputs": [
    {
     "data": {
      "text/plain": [
       "True"
      ]
     },
     "execution_count": 134,
     "metadata": {},
     "output_type": "execute_result"
    }
   ],
   "source": [
    "'R' not in 'ramesh'"
   ]
  },
  {
   "cell_type": "code",
   "execution_count": 135,
   "id": "1028aa9c-42ee-48dd-93f9-1c41131ffc7d",
   "metadata": {},
   "outputs": [
    {
     "data": {
      "text/plain": [
       "True"
      ]
     },
     "execution_count": 135,
     "metadata": {},
     "output_type": "execute_result"
    }
   ],
   "source": [
    "x = 555\n",
    "y = 555\n",
    "x is not y"
   ]
  },
  {
   "cell_type": "code",
   "execution_count": 136,
   "id": "991179ff-90c3-4318-85ca-3777d47c99cb",
   "metadata": {},
   "outputs": [
    {
     "data": {
      "text/plain": [
       "True"
      ]
     },
     "execution_count": 136,
     "metadata": {},
     "output_type": "execute_result"
    }
   ],
   "source": [
    "'r' in 'ramesh'"
   ]
  },
  {
   "cell_type": "code",
   "execution_count": 137,
   "id": "fdde0145-e932-41ba-8b35-8dedac65cb2e",
   "metadata": {},
   "outputs": [
    {
     "data": {
      "text/plain": [
       "False"
      ]
     },
     "execution_count": 137,
     "metadata": {},
     "output_type": "execute_result"
    }
   ],
   "source": [
    "'R' in 'ramesh'"
   ]
  },
  {
   "cell_type": "code",
   "execution_count": 1,
   "id": "83531934-eb81-4865-8c14-0307e73a8b39",
   "metadata": {},
   "outputs": [
    {
     "data": {
      "text/plain": [
       "True"
      ]
     },
     "execution_count": 1,
     "metadata": {},
     "output_type": "execute_result"
    }
   ],
   "source": [
    "x = 555\n",
    "y = 555\n",
    "x is not y"
   ]
  },
  {
   "cell_type": "code",
   "execution_count": 2,
   "id": "dee35dbf-042c-4806-b633-dd0accd7d7cf",
   "metadata": {},
   "outputs": [
    {
     "data": {
      "text/plain": [
       "False"
      ]
     },
     "execution_count": 2,
     "metadata": {},
     "output_type": "execute_result"
    }
   ],
   "source": [
    "x is y"
   ]
  },
  {
   "cell_type": "code",
   "execution_count": 3,
   "id": "7df0aea2-b964-453c-add3-62a71479480b",
   "metadata": {},
   "outputs": [
    {
     "data": {
      "text/plain": [
       "False"
      ]
     },
     "execution_count": 3,
     "metadata": {},
     "output_type": "execute_result"
    }
   ],
   "source": [
    "y is x"
   ]
  },
  {
   "cell_type": "code",
   "execution_count": 4,
   "id": "4dbf604e-d14d-4fe3-b388-bf934ac7bf65",
   "metadata": {},
   "outputs": [
    {
     "data": {
      "text/plain": [
       "True"
      ]
     },
     "execution_count": 4,
     "metadata": {},
     "output_type": "execute_result"
    }
   ],
   "source": [
    "y is not x "
   ]
  },
  {
   "cell_type": "code",
   "execution_count": 5,
   "id": "17aedc7b-6323-4065-aba2-a95f62dfddf5",
   "metadata": {},
   "outputs": [
    {
     "ename": "SyntaxError",
     "evalue": "Missing parentheses in call to 'print'. Did you mean print(...)? (3479931961.py, line 1)",
     "output_type": "error",
     "traceback": [
      "\u001b[1;36m  Cell \u001b[1;32mIn[5], line 1\u001b[1;36m\u001b[0m\n\u001b[1;33m    print id(x)\u001b[0m\n\u001b[1;37m    ^\u001b[0m\n\u001b[1;31mSyntaxError\u001b[0m\u001b[1;31m:\u001b[0m Missing parentheses in call to 'print'. Did you mean print(...)?\n"
     ]
    }
   ],
   "source": [
    "print id(x)\n",
    "print id(y)"
   ]
  },
  {
   "cell_type": "code",
   "execution_count": 6,
   "id": "c1efdafd-ce07-4f74-823a-b72795d2407f",
   "metadata": {},
   "outputs": [
    {
     "name": "stdout",
     "output_type": "stream",
     "text": [
      "1691465211568 1691465219888\n"
     ]
    }
   ],
   "source": [
    "print (id(x), id(y))"
   ]
  },
  {
   "cell_type": "code",
   "execution_count": null,
   "id": "0fd00f61-0f53-486a-8367-b4bf1f4b73a1",
   "metadata": {},
   "outputs": [],
   "source": []
  }
 ],
 "metadata": {
  "kernelspec": {
   "display_name": "Python 3 (ipykernel)",
   "language": "python",
   "name": "python3"
  },
  "language_info": {
   "codemirror_mode": {
    "name": "ipython",
    "version": 3
   },
   "file_extension": ".py",
   "mimetype": "text/x-python",
   "name": "python",
   "nbconvert_exporter": "python",
   "pygments_lexer": "ipython3",
   "version": "3.11.4"
  }
 },
 "nbformat": 4,
 "nbformat_minor": 5
}
