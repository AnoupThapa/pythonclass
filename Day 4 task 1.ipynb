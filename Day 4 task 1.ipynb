{
 "cells": [
  {
   "cell_type": "code",
   "execution_count": 1,
   "id": "375f5691-1026-4d51-99f0-0162c3d4e13e",
   "metadata": {},
   "outputs": [
    {
     "name": "stdout",
     "output_type": "stream",
     "text": [
      "None\n"
     ]
    }
   ],
   "source": [
    "#sort (key,reverse) \n",
    "#sort method can takw two parameters a key and a reverse\n",
    "#reverse takes boolean type and key takes a function as parameters\n",
    "data =[10,23, 1,2,12,40,5]\n",
    "result = data.sort()\n",
    "print (result)"
   ]
  },
  {
   "cell_type": "code",
   "execution_count": 5,
   "id": "2ea5ded9-b140-431a-8ccd-35369648c438",
   "metadata": {},
   "outputs": [
    {
     "name": "stdout",
     "output_type": "stream",
     "text": [
      "[40, 23, 12, 10, 5, 2, 1]\n"
     ]
    }
   ],
   "source": [
    "print(data)"
   ]
  },
  {
   "cell_type": "code",
   "execution_count": 6,
   "id": "8c17b92a-720c-48b9-aa42-b332f8e76a9b",
   "metadata": {},
   "outputs": [],
   "source": [
    "data.sort(reverse=True)"
   ]
  },
  {
   "cell_type": "code",
   "execution_count": 7,
   "id": "9b98647f-281c-4b9f-8570-ecb484501d1d",
   "metadata": {},
   "outputs": [
    {
     "name": "stdout",
     "output_type": "stream",
     "text": [
      "None\n",
      "[40, 23, 12, 10, 5, 2, 1]\n"
     ]
    }
   ],
   "source": [
    "data =[10,23, 1,2,12,40,5]\n",
    "result = data.sort()\n",
    "print (result)\n",
    "data.sort(reverse=True)\n",
    "print (data)"
   ]
  },
  {
   "cell_type": "code",
   "execution_count": 13,
   "id": "36a3a0ea-82d6-4301-b75b-8db83e9cc528",
   "metadata": {},
   "outputs": [
    {
     "name": "stdout",
     "output_type": "stream",
     "text": [
      "['Banana', 'Mango', 'apple']\n"
     ]
    }
   ],
   "source": [
    "data = [\"Mango\",\"apple\",\"Banana\"]\n",
    "data.sort()\n",
    "print(data)"
   ]
  },
  {
   "cell_type": "code",
   "execution_count": 14,
   "id": "6170aa78-9e2a-4245-a0ea-6cc94f134f2d",
   "metadata": {},
   "outputs": [
    {
     "name": "stdout",
     "output_type": "stream",
     "text": [
      "['apple', 'Mango', 'Banana']\n"
     ]
    }
   ],
   "source": [
    "data.sort(reverse=True)\n",
    "print(data)"
   ]
  },
  {
   "cell_type": "code",
   "execution_count": 16,
   "id": "96ec7b44-fa77-45cb-9e4d-a6391c241560",
   "metadata": {},
   "outputs": [],
   "source": [
    "data = [(10,12),(3,5),(2,1),(40,10),(3,8)] #list of tuples\n",
    "#result [(2,1),(3,5), (3,8), (40,10),10,12)]\n",
    "def get_second_element(element): #element= (10,12)\n",
    "    return element[1]\n",
    "    data.sort(key=get_second_element) \n",
    "    print(data)"
   ]
  },
  {
   "cell_type": "code",
   "execution_count": 19,
   "id": "17094af0-1547-435b-8f04-3308e57bb69b",
   "metadata": {},
   "outputs": [
    {
     "name": "stdout",
     "output_type": "stream",
     "text": [
      "[(2, 1), (3, 5), (3, 8), (40, 10), (10, 12)]\n"
     ]
    }
   ],
   "source": [
    "data = [(10,12),(3,5),(2,1),(40,10),(3,8)] #list of tuples\n",
    "#result [(2,1),(3,5), (3,8), (40,10),10,12)]\n",
    "def get_second_element(element): #element= (10,12)\n",
    "    return element[1]\n",
    "data.sort(key=get_second_element) \n",
    "print(data)"
   ]
  },
  {
   "cell_type": "code",
   "execution_count": 1,
   "id": "2eb759c2-728d-4b82-a95b-95dce4ab1232",
   "metadata": {},
   "outputs": [],
   "source": [
    "#Given a list a = [(4,12,5),(6,1),(11,12)], sort the list based on the last item of each tuple inside the list.,(6,7,8)"
   ]
  },
  {
   "cell_type": "code",
   "execution_count": 2,
   "id": "5d28b45f-e3bf-4dc6-92f0-51ef80b80b7f",
   "metadata": {},
   "outputs": [
    {
     "name": "stdout",
     "output_type": "stream",
     "text": [
      "[(6, 1), (4, 12, 5), (6, 7, 8), (11, 12)]\n"
     ]
    }
   ],
   "source": [
    "data = [(4,12,5),(6,1),(11,12),(6,7,8)]\n",
    "def get_last_element(element):\n",
    "    return element[-1]\n",
    "data.sort(key=get_last_element)\n",
    "print(data)"
   ]
  },
  {
   "cell_type": "code",
   "execution_count": null,
   "id": "0fe6db4c-a407-402a-9aa4-4e14d85d2cc3",
   "metadata": {},
   "outputs": [],
   "source": []
  }
 ],
 "metadata": {
  "kernelspec": {
   "display_name": "Python 3 (ipykernel)",
   "language": "python",
   "name": "python3"
  },
  "language_info": {
   "codemirror_mode": {
    "name": "ipython",
    "version": 3
   },
   "file_extension": ".py",
   "mimetype": "text/x-python",
   "name": "python",
   "nbconvert_exporter": "python",
   "pygments_lexer": "ipython3",
   "version": "3.11.4"
  }
 },
 "nbformat": 4,
 "nbformat_minor": 5
}
