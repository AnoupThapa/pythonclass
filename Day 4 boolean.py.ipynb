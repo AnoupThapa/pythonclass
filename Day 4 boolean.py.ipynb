{
 "cells": [
  {
   "cell_type": "code",
   "execution_count": 1,
   "id": "375f5691-1026-4d51-99f0-0162c3d4e13e",
   "metadata": {},
   "outputs": [
    {
     "name": "stdout",
     "output_type": "stream",
     "text": [
      "None\n"
     ]
    }
   ],
   "source": [
    "#sort (key,reverse) \n",
    "#sort method can takw two parameters a key and a reverse\n",
    "#reverse takes boolean type and key takes a function as parameters\n",
    "data =[10,23, 1,2,12,40,5]\n",
    "result = data.sort()\n",
    "print (result)"
   ]
  },
  {
   "cell_type": "code",
   "execution_count": 5,
   "id": "2ea5ded9-b140-431a-8ccd-35369648c438",
   "metadata": {},
   "outputs": [
    {
     "name": "stdout",
     "output_type": "stream",
     "text": [
      "[40, 23, 12, 10, 5, 2, 1]\n"
     ]
    }
   ],
   "source": [
    "print(data)"
   ]
  },
  {
   "cell_type": "code",
   "execution_count": 6,
   "id": "8c17b92a-720c-48b9-aa42-b332f8e76a9b",
   "metadata": {},
   "outputs": [],
   "source": [
    "data.sort(reverse=True)"
   ]
  },
  {
   "cell_type": "code",
   "execution_count": 7,
   "id": "9b98647f-281c-4b9f-8570-ecb484501d1d",
   "metadata": {},
   "outputs": [
    {
     "name": "stdout",
     "output_type": "stream",
     "text": [
      "None\n",
      "[40, 23, 12, 10, 5, 2, 1]\n"
     ]
    }
   ],
   "source": [
    "data =[10,23, 1,2,12,40,5]\n",
    "result = data.sort()\n",
    "print (result)\n",
    "data.sort(reverse=True)\n",
    "print (data)"
   ]
  },
  {
   "cell_type": "code",
   "execution_count": 13,
   "id": "36a3a0ea-82d6-4301-b75b-8db83e9cc528",
   "metadata": {},
   "outputs": [
    {
     "name": "stdout",
     "output_type": "stream",
     "text": [
      "['Banana', 'Mango', 'apple']\n"
     ]
    }
   ],
   "source": [
    "data = [\"Mango\",\"apple\",\"Banana\"]\n",
    "data.sort()\n",
    "print(data)"
   ]
  },
  {
   "cell_type": "code",
   "execution_count": 14,
   "id": "6170aa78-9e2a-4245-a0ea-6cc94f134f2d",
   "metadata": {},
   "outputs": [
    {
     "name": "stdout",
     "output_type": "stream",
     "text": [
      "['apple', 'Mango', 'Banana']\n"
     ]
    }
   ],
   "source": [
    "data.sort(reverse=True)\n",
    "print(data)"
   ]
  },
  {
   "cell_type": "code",
   "execution_count": 16,
   "id": "96ec7b44-fa77-45cb-9e4d-a6391c241560",
   "metadata": {},
   "outputs": [],
   "source": [
    "data = [(10,12),(3,5),(2,1),(40,10),(3,8)] #list of tuples\n",
    "#result [(2,1),(3,5), (3,8), (40,10),10,12)]\n",
    "def get_second_element(element): #element= (10,12)\n",
    "    return element[1]\n",
    "    data.sort(key=get_second_element) \n",
    "    print(data)"
   ]
  },
  {
   "cell_type": "code",
   "execution_count": 19,
   "id": "17094af0-1547-435b-8f04-3308e57bb69b",
   "metadata": {},
   "outputs": [
    {
     "name": "stdout",
     "output_type": "stream",
     "text": [
      "[(2, 1), (3, 5), (3, 8), (40, 10), (10, 12)]\n"
     ]
    }
   ],
   "source": [
    "data = [(10,12),(3,5),(2,1),(40,10),(3,8)] #list of tuples\n",
    "#result [(2,1),(3,5), (3,8), (40,10),10,12)]\n",
    "def get_second_element(element): #element= (10,12)\n",
    "    return element[1]\n",
    "data.sort(key=get_second_element) \n",
    "print(data)"
   ]
  },
  {
   "cell_type": "code",
   "execution_count": 1,
   "id": "2eb759c2-728d-4b82-a95b-95dce4ab1232",
   "metadata": {},
   "outputs": [],
   "source": [
    "#Given a list a = [(4,12,5),(6,1),(11,12)], sort the list based on the last item of each tuple inside the list.,(6,7,8)"
   ]
  },
  {
   "cell_type": "code",
   "execution_count": 2,
   "id": "5d28b45f-e3bf-4dc6-92f0-51ef80b80b7f",
   "metadata": {},
   "outputs": [
    {
     "name": "stdout",
     "output_type": "stream",
     "text": [
      "[(6, 1), (4, 12, 5), (6, 7, 8), (11, 12)]\n"
     ]
    }
   ],
   "source": [
    "data = [(4,12,5),(6,1),(11,12),(6,7,8)]\n",
    "def get_last_element(element):\n",
    "    return element[-1]\n",
    "data.sort(key=get_last_element)\n",
    "print(data)"
   ]
  },
  {
   "cell_type": "code",
   "execution_count": 1,
   "id": "0fe6db4c-a407-402a-9aa4-4e14d85d2cc3",
   "metadata": {},
   "outputs": [
    {
     "name": "stdout",
     "output_type": "stream",
     "text": [
      "True\n",
      "True\n"
     ]
    }
   ],
   "source": [
    "#True and False are the boolean types in python.\n",
    "#True and False are also the keywords in python.\n",
    "#operations that give boolean type\n",
    "a=5\n",
    "b=10\n",
    "c=15\n",
    "#relational operations\n",
    "print(b>a) #True\n",
    "print(b!=a)\n"
   ]
  },
  {
   "cell_type": "code",
   "execution_count": 4,
   "id": "80ee2dd6-96b6-4317-bf1b-fdbd3cc49d29",
   "metadata": {},
   "outputs": [
    {
     "name": "stdout",
     "output_type": "stream",
     "text": [
      "True\n",
      "True\n",
      "False\n",
      "False\n"
     ]
    }
   ],
   "source": [
    "print(b>a)\n",
    "print(b!=a)\n",
    "print(b<a)\n",
    "print(a==c)"
   ]
  },
  {
   "cell_type": "code",
   "execution_count": 9,
   "id": "7369f2e6-f9e5-429c-a16e-4720dc25961c",
   "metadata": {},
   "outputs": [
    {
     "name": "stdout",
     "output_type": "stream",
     "text": [
      "False\n",
      "True\n",
      "False\n",
      "False\n"
     ]
    }
   ],
   "source": [
    "#logical operations\n",
    "print(b>a and a==c)\n",
    "print(b>a or a ==c)\n",
    "print(not True)\n",
    "print(not a)"
   ]
  },
  {
   "cell_type": "code",
   "execution_count": 16,
   "id": "2854c5f3-cab8-407d-ab3c-feea0db0d916",
   "metadata": {},
   "outputs": [
    {
     "name": "stdout",
     "output_type": "stream",
     "text": [
      "True\n",
      "False\n",
      "True\n",
      "False\n",
      "False\n",
      "True\n"
     ]
    }
   ],
   "source": [
    "#membership operation\n",
    "print(2 in [1,2,3])\n",
    "print(3 not in [1,2,3])\n",
    "print(1 in [1,2,3])\n",
    "print(0 in [1,2,3])\n",
    "print((1,2) in [1,2,3])\n",
    "print(1 in [1,2,3])"
   ]
  },
  {
   "cell_type": "code",
   "execution_count": 18,
   "id": "679b2a27-e9b0-4225-91c3-cdb3ce5e964c",
   "metadata": {},
   "outputs": [
    {
     "name": "stdout",
     "output_type": "stream",
     "text": [
      "True\n",
      "False\n"
     ]
    }
   ],
   "source": [
    "#identity operations\n",
    "a = 257\n",
    "b = 257\n",
    "print(a==b)\n",
    "print(a is b)\n"
   ]
  },
  {
   "cell_type": "raw",
   "id": "0d4c58ac-a9a7-4c32-ac19-23aea7afc1d9",
   "metadata": {},
   "source": [
    "print(a)"
   ]
  },
  {
   "cell_type": "code",
   "execution_count": 19,
   "id": "0fc257fd-0c2e-4b78-9b19-d3b771365065",
   "metadata": {},
   "outputs": [
    {
     "name": "stdout",
     "output_type": "stream",
     "text": [
      "257\n"
     ]
    }
   ],
   "source": [
    "a = 257 #upto 256 it is created in one memory location and beyond256 it is created in different location\n",
    "b = 257\n",
    "print (a)"
   ]
  },
  {
   "cell_type": "code",
   "execution_count": 20,
   "id": "504f442f-2a01-4035-8514-a25955becdf4",
   "metadata": {},
   "outputs": [
    {
     "name": "stdout",
     "output_type": "stream",
     "text": [
      "257\n"
     ]
    }
   ],
   "source": [
    "print(b)"
   ]
  },
  {
   "cell_type": "code",
   "execution_count": 29,
   "id": "c21158e5-e050-462c-8a8e-f8ec4bfebbed",
   "metadata": {},
   "outputs": [
    {
     "data": {
      "text/plain": [
       "1928006742800"
      ]
     },
     "execution_count": 29,
     "metadata": {},
     "output_type": "execute_result"
    }
   ],
   "source": [
    "id(a)"
   ]
  },
  {
   "cell_type": "code",
   "execution_count": 22,
   "id": "604300d8-5973-40e9-ab69-85730d926432",
   "metadata": {},
   "outputs": [
    {
     "data": {
      "text/plain": [
       "1928006743056"
      ]
     },
     "execution_count": 22,
     "metadata": {},
     "output_type": "execute_result"
    }
   ],
   "source": [
    "id(a)"
   ]
  },
  {
   "cell_type": "code",
   "execution_count": 23,
   "id": "737a037b-2d4a-4c69-b26f-4044e32b1e9d",
   "metadata": {},
   "outputs": [
    {
     "data": {
      "text/plain": [
       "1928006743024"
      ]
     },
     "execution_count": 23,
     "metadata": {},
     "output_type": "execute_result"
    }
   ],
   "source": [
    "id(b)"
   ]
  },
  {
   "cell_type": "code",
   "execution_count": 24,
   "id": "f025ec4f-a733-4041-97a6-b45dc316e21d",
   "metadata": {},
   "outputs": [
    {
     "data": {
      "text/plain": [
       "140732231902024"
      ]
     },
     "execution_count": 24,
     "metadata": {},
     "output_type": "execute_result"
    }
   ],
   "source": [
    "a= 2\n",
    "b=2\n",
    "id(a)"
   ]
  },
  {
   "cell_type": "code",
   "execution_count": 25,
   "id": "48756463-5a12-4542-8b74-65ca7093b551",
   "metadata": {},
   "outputs": [
    {
     "data": {
      "text/plain": [
       "140732231902024"
      ]
     },
     "execution_count": 25,
     "metadata": {},
     "output_type": "execute_result"
    }
   ],
   "source": [
    "id(b)"
   ]
  },
  {
   "cell_type": "code",
   "execution_count": 30,
   "id": "65ef7fa3-a37e-4fc8-aa7e-625265c47954",
   "metadata": {},
   "outputs": [
    {
     "data": {
      "text/plain": [
       "1928006743088"
      ]
     },
     "execution_count": 30,
     "metadata": {},
     "output_type": "execute_result"
    }
   ],
   "source": [
    "a=260\n",
    "b-=260\n",
    "id(a)\n",
    "id(b)"
   ]
  },
  {
   "cell_type": "code",
   "execution_count": 31,
   "id": "9ba9a8db-96db-4e3e-8c20-ae1661bbe895",
   "metadata": {},
   "outputs": [
    {
     "name": "stdout",
     "output_type": "stream",
     "text": [
      "True\n"
     ]
    }
   ],
   "source": [
    "#concept of Truthy and Falsy\n",
    "#Truthy : ALl non-empty data types and non-Zero number are truthty values\n",
    "a=12 #integer\n",
    "b=5.7 #Float\n",
    "c=[1,2] # List\n",
    "d= (4,5) # tuple\n",
    "e= {1,2} #set\n",
    "f = {\"name\",\"jon\"} #Dictionary\n",
    "g = True #boolean\n",
    "print(bool(b))"
   ]
  },
  {
   "cell_type": "code",
   "execution_count": 32,
   "id": "1bf793b5-5317-44c1-bab1-4b8c1aeaaef4",
   "metadata": {},
   "outputs": [
    {
     "name": "stdout",
     "output_type": "stream",
     "text": [
      "True\n"
     ]
    }
   ],
   "source": [
    "print (bool(a))"
   ]
  },
  {
   "cell_type": "code",
   "execution_count": 39,
   "id": "7045ab29-46d6-497f-937b-6a76481f5c8f",
   "metadata": {},
   "outputs": [
    {
     "name": "stdout",
     "output_type": "stream",
     "text": [
      "False\n",
      "True\n"
     ]
    }
   ],
   "source": [
    "#falsy: All empty datatypes and Zero are falsy values\n",
    "a= 0\n",
    "b=0.0\n",
    "c=[]\n",
    "d=()\n",
    "e={}\n",
    "f={\"name\",\"Sam\"}\n",
    "g = True\n",
    "print(bool(a))\n",
    "print(bool(g))"
   ]
  },
  {
   "cell_type": "code",
   "execution_count": 45,
   "id": "573129fb-4946-43a0-85bc-4dee7fb6cb32",
   "metadata": {},
   "outputs": [
    {
     "name": "stdout",
     "output_type": "stream",
     "text": [
      "4\n",
      "70\n",
      "0\n",
      "2\n",
      "0\n",
      "3\n"
     ]
    }
   ],
   "source": [
    "#python booleans are the subclass of the integer class that measn True os 1 and False is 0\n",
    "a=True\n",
    "b=3\n",
    "print(a+b)\n",
    "print(70*True)\n",
    "print(70*False)\n",
    "print(True+True)\n",
    "print(False+False)\n",
    "print(b+False)"
   ]
  },
  {
   "cell_type": "code",
   "execution_count": 46,
   "id": "f4a19b72-e814-408b-a16c-18bd6d41bad1",
   "metadata": {},
   "outputs": [
    {
     "name": "stdout",
     "output_type": "stream",
     "text": [
      "0\n"
     ]
    }
   ],
   "source": [
    "print(b*False)"
   ]
  },
  {
   "cell_type": "code",
   "execution_count": null,
   "id": "a28f207f-a994-4f02-a740-d56ade0077f9",
   "metadata": {},
   "outputs": [],
   "source": []
  }
 ],
 "metadata": {
  "kernelspec": {
   "display_name": "Python 3 (ipykernel)",
   "language": "python",
   "name": "python3"
  },
  "language_info": {
   "codemirror_mode": {
    "name": "ipython",
    "version": 3
   },
   "file_extension": ".py",
   "mimetype": "text/x-python",
   "name": "python",
   "nbconvert_exporter": "python",
   "pygments_lexer": "ipython3",
   "version": "3.11.4"
  }
 },
 "nbformat": 4,
 "nbformat_minor": 5
}
